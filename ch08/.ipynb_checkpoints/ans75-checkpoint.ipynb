{
 "cells": [
  {
   "cell_type": "code",
   "execution_count": 1,
   "metadata": {},
   "outputs": [],
   "source": [
    "import numpy as np\n",
    "import joblib\n",
    "import pandas as pd\n",
    "import torch\n",
    "from torch import nn,optim"
   ]
  },
  {
   "cell_type": "code",
   "execution_count": 2,
   "metadata": {},
   "outputs": [],
   "source": [
    "with open(\"X_train.joblib\", mode=\"rb\") as f:\n",
    "    X_train = joblib.load(f)\n",
    "\n",
    "X_train = torch.tensor(X_train)\n",
    "\n",
    "with open(\"y_train.joblib\", mode=\"rb\") as f:\n",
    "    y_train = joblib.load(f)\n",
    "\n",
    "y_train = torch.tensor(y_train,dtype=torch.long)\n",
    "\n",
    "\n",
    "with open(\"X_test.joblib\", mode=\"rb\") as f:\n",
    "    X_test = joblib.load(f)\n",
    "\n",
    "X_test = torch.tensor(X_test)\n",
    "\n",
    "with open(\"y_test.joblib\", mode=\"rb\") as f:\n",
    "    y_test = joblib.load(f)\n",
    "\n",
    "y_test = torch.tensor(y_test,dtype=torch.long)"
   ]
  },
  {
   "cell_type": "code",
   "execution_count": 3,
   "metadata": {},
   "outputs": [],
   "source": [
    "#W = torch.randn(300,4,requires_grad=True)\n",
    "\n",
    "x1 = X_train\n",
    "y1 = y_train"
   ]
  },
  {
   "cell_type": "code",
   "execution_count": 12,
   "metadata": {},
   "outputs": [],
   "source": [
    "W = torch.from_numpy(np.random.randn(300, 4) * np.sqrt(2.0 / 1200)).float()"
   ]
  },
  {
   "cell_type": "code",
   "execution_count": 13,
   "metadata": {},
   "outputs": [],
   "source": [
    "W.requires_grad=True"
   ]
  },
  {
   "cell_type": "code",
   "execution_count": 14,
   "metadata": {},
   "outputs": [
    {
     "data": {
      "text/plain": [
       "tensor([[-0.0025, -0.0746,  0.1122, -0.0396],\n",
       "        [ 0.0064, -0.0143,  0.0242, -0.0151],\n",
       "        [ 0.0068,  0.0066, -0.0384, -0.0502],\n",
       "        ...,\n",
       "        [-0.0140, -0.0418, -0.0871,  0.0506],\n",
       "        [-0.0354,  0.0533,  0.0551, -0.0074],\n",
       "        [-0.0081, -0.0759, -0.0223,  0.0055]], requires_grad=True)"
      ]
     },
     "execution_count": 14,
     "metadata": {},
     "output_type": "execute_result"
    }
   ],
   "source": [
    "W"
   ]
  },
  {
   "cell_type": "code",
   "execution_count": 15,
   "metadata": {},
   "outputs": [],
   "source": [
    "loss_func = nn.CrossEntropyLoss()\n",
    "optimizer = optim.SGD([W], lr=0.01)"
   ]
  },
  {
   "cell_type": "code",
   "execution_count": 16,
   "metadata": {},
   "outputs": [],
   "source": [
    "loss = []\n",
    "train_acc = []\n",
    "test_acc = []"
   ]
  },
  {
   "cell_type": "code",
   "execution_count": 17,
   "metadata": {},
   "outputs": [],
   "source": [
    "for epoch in range(100):\n",
    "    optimizer.zero_grad()\n",
    "    y_pred = torch.mm(x1,W.float())\n",
    "    out = loss_func(y_pred,y1)\n",
    "    out.backward()\n",
    "    optimizer.step()\n",
    "    loss.append(out)\n",
    "    y_pred_train = torch.tensor([torch.max(torch.matmul(i,W),0)[1] for i in X_train])\n",
    "    y_pred_test = torch.tensor([torch.max(torch.matmul(i,W),0)[1] for i in X_test])\n",
    "    train_acc.append((y_pred_train == y1).sum().item() / len(y1))\n",
    "    test_acc.append((y_pred_test == y_test).sum().item() / len(y_test))"
   ]
  },
  {
   "cell_type": "code",
   "execution_count": 18,
   "metadata": {
    "scrolled": true
   },
   "outputs": [
    {
     "data": {
      "text/plain": [
       "[<matplotlib.lines.Line2D at 0x1ae26d80dc8>]"
      ]
     },
     "execution_count": 18,
     "metadata": {},
     "output_type": "execute_result"
    },
    {
     "data": {
      "image/png": "[encoded data removed]",
      "text/plain": [
       "<Figure size 432x288 with 1 Axes>"
      ]
     },
     "metadata": {
      "needs_background": "light"
     },
     "output_type": "display_data"
    }
   ],
   "source": [
    "import matplotlib.pyplot as plt\n",
    "plt.plot(range(100),loss)"
   ]
  },
  {
   "cell_type": "code",
   "execution_count": 19,
   "metadata": {},
   "outputs": [
    {
     "data": {
      "text/plain": [
       "[<matplotlib.lines.Line2D at 0x1ae28e756c8>]"
      ]
     },
     "execution_count": 19,
     "metadata": {},
     "output_type": "execute_result"
    },
    {
     "data": {
      "image/png": "[encoded data removed]",
      "text/plain": [
       "<Figure size 432x288 with 1 Axes>"
      ]
     },
     "metadata": {
      "needs_background": "light"
     },
     "output_type": "display_data"
    }
   ],
   "source": [
    "plt.plot(range(100),train_acc)\n",
    "plt.plot(range(100),test_acc)"
   ]
  },
  {
   "cell_type": "code",
   "execution_count": null,
   "metadata": {},
   "outputs": [],
   "source": []
  }
 ],
 "metadata": {
  "kernelspec": {
   "display_name": "Python 3",
   "language": "python",
   "name": "python3"
  },
  "language_info": {
   "codemirror_mode": {
    "name": "ipython",
    "version": 3
   },
   "file_extension": ".py",
   "mimetype": "text/x-python",
   "name": "python",
   "nbconvert_exporter": "python",
   "pygments_lexer": "ipython3",
   "version": "3.7.8"
  }
 },
 "nbformat": 4,
 "nbformat_minor": 4
}
