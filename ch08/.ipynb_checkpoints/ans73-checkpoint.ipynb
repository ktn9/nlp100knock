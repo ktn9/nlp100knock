{
 "cells": [
  {
   "cell_type": "code",
   "execution_count": 1,
   "metadata": {},
   "outputs": [],
   "source": [
    "import numpy as np\n",
    "import joblib\n",
    "import pandas as pd\n",
    "import torch\n",
    "from torch import nn,optim"
   ]
  },
  {
   "cell_type": "code",
   "execution_count": 2,
   "metadata": {},
   "outputs": [],
   "source": [
    "with open(\"X_train.joblib\", mode=\"rb\") as f:\n",
    "    X_train = joblib.load(f)\n",
    "\n",
    "X_train = torch.tensor(X_train)\n",
    "\n",
    "with open(\"y_train.joblib\", mode=\"rb\") as f:\n",
    "    y_train = joblib.load(f)\n",
    "\n",
    "y_train = torch.tensor(y_train,dtype=torch.long)"
   ]
  },
  {
   "cell_type": "code",
   "execution_count": 3,
   "metadata": {},
   "outputs": [],
   "source": [
    "W = torch.rand(300,4,requires_grad=True)\n",
    "\n",
    "x1 = X_train[:4]\n",
    "y1 = y_train[:4]"
   ]
  },
  {
   "cell_type": "code",
   "execution_count": 4,
   "metadata": {},
   "outputs": [],
   "source": [
    "loss = nn.CrossEntropyLoss()\n",
    "optimizer = optim.SGD([W], lr=0.01)"
   ]
  },
  {
   "cell_type": "code",
   "execution_count": 5,
   "metadata": {},
   "outputs": [],
   "source": [
    "for epoch in range(1000):\n",
    "    optimizer.zero_grad()\n",
    "    y_pred = torch.mm(x1,W)\n",
    "    out = loss(y_pred,y1)\n",
    "    out.backward()\n",
    "    optimizer.step()\n",
    "    #print(out)"
   ]
  },
  {
   "cell_type": "code",
   "execution_count": 6,
   "metadata": {},
   "outputs": [
    {
     "data": {
      "text/plain": [
       "tensor([[0.1271, 0.7204, 0.1695, 0.3044],\n",
       "        [0.8221, 0.5598, 0.5596, 0.8838],\n",
       "        [0.7805, 0.1410, 0.7598, 0.0154],\n",
       "        ...,\n",
       "        [0.6612, 0.2054, 0.7418, 0.4316],\n",
       "        [0.5999, 0.1217, 0.2473, 0.7028],\n",
       "        [0.2294, 0.4604, 1.0219, 0.3685]], requires_grad=True)"
      ]
     },
     "execution_count": 6,
     "metadata": {},
     "output_type": "execute_result"
    }
   ],
   "source": [
    "W"
   ]
  },
  {
   "cell_type": "code",
   "execution_count": 11,
   "metadata": {},
   "outputs": [
    {
     "name": "stdout",
     "output_type": "stream",
     "text": [
      "tensor([0.4028, 0.4603, 3.4371, 0.3606], grad_fn=<SqueezeBackward3>)\n",
      "tensor([ 2.0469, -1.1854, -0.5951, -0.1870], grad_fn=<SqueezeBackward3>)\n",
      "tensor([-1.9385, -2.1767, -2.6596,  0.2855], grad_fn=<SqueezeBackward3>)\n",
      "tensor([-2.1622,  0.1976, -2.1557, -1.9379], grad_fn=<SqueezeBackward3>)\n"
     ]
    }
   ],
   "source": [
    "for i in X_train[:4]:\n",
    "    print(torch.matmul(i,W))"
   ]
  },
  {
   "cell_type": "code",
   "execution_count": 12,
   "metadata": {},
   "outputs": [
    {
     "data": {
      "text/plain": [
       "tensor([2, 0, 3, 1])"
      ]
     },
     "execution_count": 12,
     "metadata": {},
     "output_type": "execute_result"
    }
   ],
   "source": [
    "y_train[:4]"
   ]
  }
 ],
 "metadata": {
  "kernelspec": {
   "display_name": "Python 3",
   "language": "python",
   "name": "python3"
  },
  "language_info": {
   "codemirror_mode": {
    "name": "ipython",
    "version": 3
   },
   "file_extension": ".py",
   "mimetype": "text/x-python",
   "name": "python",
   "nbconvert_exporter": "python",
   "pygments_lexer": "ipython3",
   "version": "3.7.8"
  }
 },
 "nbformat": 4,
 "nbformat_minor": 4
}
