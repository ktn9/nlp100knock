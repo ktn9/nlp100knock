{
 "cells": [
  {
   "cell_type": "code",
   "execution_count": 2,
   "metadata": {},
   "outputs": [],
   "source": [
    "import numpy as np\n",
    "import joblib\n",
    "import pandas as pd\n",
    "import torch\n",
    "from torch import nn,optim"
   ]
  },
  {
   "cell_type": "code",
   "execution_count": 3,
   "metadata": {},
   "outputs": [],
   "source": [
    "with open(\"X_train.joblib\", mode=\"rb\") as f:\n",
    "    X_train = joblib.load(f)\n",
    "\n",
    "X_train = torch.tensor(X_train)\n",
    "\n",
    "with open(\"y_train.joblib\", mode=\"rb\") as f:\n",
    "    y_train = joblib.load(f)\n",
    "\n",
    "y_train = torch.tensor(y_train,dtype=torch.long)\n",
    "\n",
    "\n",
    "with open(\"X_test.joblib\", mode=\"rb\") as f:\n",
    "    X_test = joblib.load(f)\n",
    "\n",
    "X_test = torch.tensor(X_test)\n",
    "\n",
    "with open(\"y_test.joblib\", mode=\"rb\") as f:\n",
    "    y_test = joblib.load(f)\n",
    "\n",
    "y_test = torch.tensor(y_test,dtype=torch.long)"
   ]
  },
  {
   "cell_type": "code",
   "execution_count": 4,
   "metadata": {},
   "outputs": [],
   "source": [
    "W = torch.rand(300,4,requires_grad=True)\n",
    "\n",
    "x1 = X_train\n",
    "y1 = y_train"
   ]
  },
  {
   "cell_type": "code",
   "execution_count": 5,
   "metadata": {},
   "outputs": [
    {
     "data": {
      "text/plain": [
       "tensor([[0.2761, 0.9745, 0.8737, 0.2120],\n",
       "        [0.7297, 0.7839, 0.3781, 0.7529],\n",
       "        [0.3953, 0.6686, 0.5617, 0.8540],\n",
       "        ...,\n",
       "        [0.9859, 0.2708, 0.5059, 0.2188],\n",
       "        [0.4838, 0.2026, 0.6536, 0.6151],\n",
       "        [0.4154, 0.6607, 0.5413, 0.4246]], requires_grad=True)"
      ]
     },
     "execution_count": 5,
     "metadata": {},
     "output_type": "execute_result"
    }
   ],
   "source": [
    "W"
   ]
  },
  {
   "cell_type": "code",
   "execution_count": 6,
   "metadata": {},
   "outputs": [],
   "source": [
    "loss = nn.CrossEntropyLoss()\n",
    "optimizer = optim.SGD([W], lr=0.01)"
   ]
  },
  {
   "cell_type": "code",
   "execution_count": 7,
   "metadata": {},
   "outputs": [],
   "source": [
    "for epoch in range(500):\n",
    "    optimizer.zero_grad()\n",
    "    y_pred = torch.mm(x1,W)\n",
    "    out = loss(y_pred,y1)\n",
    "    out.backward()\n",
    "    optimizer.step()\n",
    "    #print(out)"
   ]
  },
  {
   "cell_type": "code",
   "execution_count": 8,
   "metadata": {},
   "outputs": [
    {
     "data": {
      "text/plain": [
       "tensor([[0.2516, 0.9767, 0.8791, 0.2289],\n",
       "        [0.7488, 0.8127, 0.3530, 0.7299],\n",
       "        [0.3765, 0.6663, 0.5748, 0.8620],\n",
       "        ...,\n",
       "        [1.0167, 0.2077, 0.5257, 0.2313],\n",
       "        [0.5289, 0.1729, 0.6480, 0.6053],\n",
       "        [0.3430, 0.7286, 0.5538, 0.4167]], requires_grad=True)"
      ]
     },
     "execution_count": 8,
     "metadata": {},
     "output_type": "execute_result"
    }
   ],
   "source": [
    "W"
   ]
  },
  {
   "cell_type": "code",
   "execution_count": 9,
   "metadata": {},
   "outputs": [],
   "source": [
    "y_pred_train = torch.tensor([torch.max(torch.matmul(i,W),0)[1] for i in X_train])\n",
    "y_pred_test = torch.tensor([torch.max(torch.matmul(i,W),0)[1] for i in X_test])"
   ]
  },
  {
   "cell_type": "code",
   "execution_count": 10,
   "metadata": {},
   "outputs": [
    {
     "name": "stdout",
     "output_type": "stream",
     "text": [
      "0.731740927882407\n",
      "0.7401285583103765\n"
     ]
    }
   ],
   "source": [
    "print((y_pred_train == y1).sum().item() / len(y1))\n",
    "print((y_pred_test == y_test).sum().item() / len(y_test))"
   ]
  },
  {
   "cell_type": "code",
   "execution_count": null,
   "metadata": {},
   "outputs": [],
   "source": []
  }
 ],
 "metadata": {
  "kernelspec": {
   "display_name": "Python 3",
   "language": "python",
   "name": "python3"
  },
  "language_info": {
   "codemirror_mode": {
    "name": "ipython",
    "version": 3
   },
   "file_extension": ".py",
   "mimetype": "text/x-python",
   "name": "python",
   "nbconvert_exporter": "python",
   "pygments_lexer": "ipython3",
   "version": "3.7.8"
  }
 },
 "nbformat": 4,
 "nbformat_minor": 4
}
