{
 "cells": [
  {
   "cell_type": "code",
   "execution_count": 1,
   "metadata": {},
   "outputs": [],
   "source": [
    "import numpy as np\n",
    "import joblib\n",
    "import pandas as pd\n",
    "import torch\n",
    "from torch import nn,optim\n",
    "from tqdm import tqdm \n",
    "from torch.utils.data import TensorDataset,DataLoader\n",
    "import matplotlib.pyplot as plt\n",
    "device = torch.device('cuda' if torch.cuda.is_available() else 'cpu')"
   ]
  },
  {
   "cell_type": "code",
   "execution_count": 2,
   "metadata": {},
   "outputs": [
    {
     "data": {
      "text/plain": [
       "device(type='cuda')"
      ]
     },
     "execution_count": 2,
     "metadata": {},
     "output_type": "execute_result"
    }
   ],
   "source": [
    "device"
   ]
  },
  {
   "cell_type": "code",
   "execution_count": 3,
   "metadata": {},
   "outputs": [
    {
     "name": "stdout",
     "output_type": "stream",
     "text": [
      "True\n"
     ]
    }
   ],
   "source": [
    "print(torch.cuda.is_available())"
   ]
  },
  {
   "cell_type": "code",
   "execution_count": 4,
   "metadata": {},
   "outputs": [
    {
     "data": {
      "text/plain": [
       "'GeForce GTX 1660 SUPER'"
      ]
     },
     "execution_count": 4,
     "metadata": {},
     "output_type": "execute_result"
    }
   ],
   "source": [
    "torch.cuda.get_device_name(0)"
   ]
  },
  {
   "cell_type": "code",
   "execution_count": 5,
   "metadata": {},
   "outputs": [
    {
     "data": {
      "text/plain": [
       "7605"
      ]
     },
     "execution_count": 5,
     "metadata": {},
     "output_type": "execute_result"
    }
   ],
   "source": [
    "torch.backends.cudnn.version()"
   ]
  },
  {
   "cell_type": "code",
   "execution_count": 6,
   "metadata": {},
   "outputs": [],
   "source": [
    "with open(\"X_train.joblib\", mode=\"rb\") as f:\n",
    "    X_train = joblib.load(f)\n",
    "\n",
    "X_train = torch.tensor(X_train).to(device)\n",
    "\n",
    "with open(\"y_train.joblib\", mode=\"rb\") as f:\n",
    "    y_train = joblib.load(f)\n",
    "\n",
    "y_train = torch.tensor(y_train,dtype=torch.long).to(device)\n",
    "\n",
    "\n",
    "with open(\"X_valid.joblib\", mode=\"rb\") as f:\n",
    "    X_valid = joblib.load(f)\n",
    "\n",
    "X_valid = torch.tensor(X_valid).to(device)\n",
    "\n",
    "with open(\"y_valid.joblib\", mode=\"rb\") as f:\n",
    "    y_valid = joblib.load(f)\n",
    "\n",
    "y_valid = torch.tensor(y_valid,dtype=torch.long).to(device)"
   ]
  },
  {
   "cell_type": "code",
   "execution_count": 7,
   "metadata": {},
   "outputs": [],
   "source": [
    "ds = TensorDataset(X_train,y_train)\n",
    "loss_func = nn.CrossEntropyLoss()"
   ]
  },
  {
   "cell_type": "code",
   "execution_count": 8,
   "metadata": {},
   "outputs": [
    {
     "name": "stderr",
     "output_type": "stream",
     "text": [
      "100%|████████████████████████████████████████████████████████████████████████████████| 100/100 [00:40<00:00,  2.46it/s]\n"
     ]
    },
    {
     "data": {
      "image/png": "[encoded data removed]",
      "text/plain": [
       "<Figure size 432x288 with 1 Axes>"
      ]
     },
     "metadata": {
      "needs_background": "light"
     },
     "output_type": "display_data"
    },
    {
     "data": {
      "image/png": "[encoded data removed]",
      "text/plain": [
       "<Figure size 432x288 with 1 Axes>"
      ]
     },
     "metadata": {
      "needs_background": "light"
     },
     "output_type": "display_data"
    }
   ],
   "source": [
    "for batchsize in [16]:\n",
    "    model = nn.Linear(X_train.size()[1],4,bias=False)\n",
    "    model.to(device)\n",
    "    optimizer = optim.SGD(model.parameters(), lr=0.01)\n",
    "    train_loss = []\n",
    "    valid_loss = []\n",
    "    train_acc = []\n",
    "    valid_acc = []\n",
    "    data_loader = torch.utils.data.DataLoader(ds,batch_size=batchsize, shuffle=True)\n",
    "    \n",
    "    for epoch in tqdm(range(100)):\n",
    "        train_loss_accum = 0.0\n",
    "        valid_loss_accum = 0.0\n",
    "        \n",
    "        for xx,yy in data_loader:\n",
    "            optimizer.zero_grad()\n",
    "            y_pred = model(xx)\n",
    "            out = loss_func(y_pred,yy)\n",
    "            out.backward()\n",
    "            optimizer.step()\n",
    "            train_loss_accum += out.item()\n",
    "            valid_loss_accum += loss_func(model(X_valid),y_valid).item()\n",
    "        #joblib.dump(model.state_dict(), f'state_dict_{epoch}.joblib')\n",
    "\n",
    "        train_loss.append(train_loss_accum/len(data_loader))\n",
    "        valid_loss.append(valid_loss_accum/len(data_loader))\n",
    "\n",
    "        y_pred_train = torch.max(model(X_train),1)[1]\n",
    "        y_pred_valid = torch.max(model(X_valid),1)[1]\n",
    "        train_acc.append((y_pred_train == y_train).sum().item() / len(y_train))\n",
    "        valid_acc.append((y_pred_valid == y_valid).sum().item() / len(y_valid))\n",
    "    plt.plot(range(100),train_loss)\n",
    "    plt.plot(range(100),valid_loss)\n",
    "    plt.show()\n",
    "    plt.plot(range(100),train_acc)\n",
    "    plt.plot(range(100),valid_acc)\n",
    "    plt.show()"
   ]
  },
  {
   "cell_type": "code",
   "execution_count": null,
   "metadata": {},
   "outputs": [],
   "source": []
  }
 ],
 "metadata": {
  "kernelspec": {
   "display_name": "Python 3",
   "language": "python",
   "name": "python3"
  },
  "language_info": {
   "codemirror_mode": {
    "name": "ipython",
    "version": 3
   },
   "file_extension": ".py",
   "mimetype": "text/x-python",
   "name": "python",
   "nbconvert_exporter": "python",
   "pygments_lexer": "ipython3",
   "version": "3.7.8"
  }
 },
 "nbformat": 4,
 "nbformat_minor": 4
}
