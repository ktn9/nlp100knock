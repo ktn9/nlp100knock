{
 "cells": [
  {
   "cell_type": "code",
   "execution_count": 1,
   "metadata": {},
   "outputs": [],
   "source": [
    "import pandas as pd\n",
    "from sklearn.model_selection import train_test_split"
   ]
  },
  {
   "cell_type": "code",
   "execution_count": 2,
   "metadata": {},
   "outputs": [],
   "source": [
    "newsCorpora = pd.read_table('newsCorpora.csv', header=None)"
   ]
  },
  {
   "cell_type": "code",
   "execution_count": 3,
   "metadata": {},
   "outputs": [],
   "source": [
    "newsCorpora.columns = ['ID', 'TITLE', 'URL', 'PUBLISHER', 'CATEGORY', 'STORY', 'HOSTNAME', 'TIMESTAMP']"
   ]
  },
  {
   "cell_type": "code",
   "execution_count": 4,
   "metadata": {},
   "outputs": [],
   "source": [
    "def confirm_publisher(n):\n",
    "    return (n in {\"Reuters\",\"Huffington\",\"Businessweek\",\"Contactmusic.com\",\"Daily Mail\"})"
   ]
  },
  {
   "cell_type": "code",
   "execution_count": 13,
   "metadata": {},
   "outputs": [],
   "source": [
    "newsCorpora = newsCorpora.query(\"PUBLISHER in ['Reuters','Huffington','Businessweek','Contactmusic.com','Daily Mail']\")"
   ]
  },
  {
   "cell_type": "code",
   "execution_count": 14,
   "metadata": {},
   "outputs": [],
   "source": [
    "newsCorpora = newsCorpora.sample(frac=1)"
   ]
  },
  {
   "cell_type": "code",
   "execution_count": 16,
   "metadata": {},
   "outputs": [],
   "source": [
    "train_data,test_data = train_test_split(newsCorpora)"
   ]
  },
  {
   "cell_type": "code",
   "execution_count": 22,
   "metadata": {},
   "outputs": [],
   "source": [
    "newsCorpora = newsCorpora[['CATEGORY', 'TITLE']].copy()"
   ]
  },
  {
   "cell_type": "code",
   "execution_count": 23,
   "metadata": {},
   "outputs": [
    {
     "data": {
      "text/html": [
       "<div>\n",
       "<style scoped>\n",
       "    .dataframe tbody tr th:only-of-type {\n",
       "        vertical-align: middle;\n",
       "    }\n",
       "\n",
       "    .dataframe tbody tr th {\n",
       "        vertical-align: top;\n",
       "    }\n",
       "\n",
       "    .dataframe thead th {\n",
       "        text-align: right;\n",
       "    }\n",
       "</style>\n",
       "<table border=\"1\" class=\"dataframe\">\n",
       "  <thead>\n",
       "    <tr style=\"text-align: right;\">\n",
       "      <th></th>\n",
       "      <th>CATEGORY</th>\n",
       "      <th>TITLE</th>\n",
       "    </tr>\n",
       "  </thead>\n",
       "  <tbody>\n",
       "    <tr>\n",
       "      <th>57074</th>\n",
       "      <td>b</td>\n",
       "      <td>FOREX-Euro drops to 3-week low on ECB easing t...</td>\n",
       "    </tr>\n",
       "    <tr>\n",
       "      <th>248732</th>\n",
       "      <td>e</td>\n",
       "      <td>Cinema Is Dead, For This Generation At Least, ...</td>\n",
       "    </tr>\n",
       "    <tr>\n",
       "      <th>81974</th>\n",
       "      <td>e</td>\n",
       "      <td>Chris Evans - Chris Evans won't quit acting soon</td>\n",
       "    </tr>\n",
       "    <tr>\n",
       "      <th>202007</th>\n",
       "      <td>e</td>\n",
       "      <td>Larry Wilmore Named As Replacement For Stephen...</td>\n",
       "    </tr>\n",
       "    <tr>\n",
       "      <th>415615</th>\n",
       "      <td>e</td>\n",
       "      <td>All hail Queen Bey! Beyoncé arrives in gorgeou...</td>\n",
       "    </tr>\n",
       "  </tbody>\n",
       "</table>\n",
       "</div>"
      ],
      "text/plain": [
       "       CATEGORY                                              TITLE\n",
       "57074         b  FOREX-Euro drops to 3-week low on ECB easing t...\n",
       "248732        e  Cinema Is Dead, For This Generation At Least, ...\n",
       "81974         e   Chris Evans - Chris Evans won't quit acting soon\n",
       "202007        e  Larry Wilmore Named As Replacement For Stephen...\n",
       "415615        e  All hail Queen Bey! Beyoncé arrives in gorgeou..."
      ]
     },
     "execution_count": 23,
     "metadata": {},
     "output_type": "execute_result"
    }
   ],
   "source": [
    "newsCorpora.head()"
   ]
  },
  {
   "cell_type": "code",
   "execution_count": 26,
   "metadata": {},
   "outputs": [],
   "source": [
    "train,test = train_test_split(newsCorpora, test_size=0.2,  random_state=0)\n",
    "test,valid = train_test_split(test, test_size=0.5, random_state=0)\n",
    "\n",
    "train.to_csv('train.txt', sep='\\t', index=False, header=None)\n",
    "test.to_csv('valid.txt', sep='\\t', index=False, header=None)\n",
    "valid.to_csv('test.txt', sep='\\t', index=False, header=None)"
   ]
  },
  {
   "cell_type": "code",
   "execution_count": 27,
   "metadata": {},
   "outputs": [
    {
     "data": {
      "text/plain": [
       "8708"
      ]
     },
     "execution_count": 27,
     "metadata": {},
     "output_type": "execute_result"
    }
   ],
   "source": [
    "len(train)"
   ]
  },
  {
   "cell_type": "code",
   "execution_count": 28,
   "metadata": {},
   "outputs": [
    {
     "data": {
      "text/plain": [
       "1088"
      ]
     },
     "execution_count": 28,
     "metadata": {},
     "output_type": "execute_result"
    }
   ],
   "source": [
    "len(test)"
   ]
  },
  {
   "cell_type": "code",
   "execution_count": null,
   "metadata": {},
   "outputs": [],
   "source": []
  }
 ],
 "metadata": {
  "kernelspec": {
   "display_name": "Python 3",
   "language": "python",
   "name": "python3"
  },
  "language_info": {
   "codemirror_mode": {
    "name": "ipython",
    "version": 3
   },
   "file_extension": ".py",
   "mimetype": "text/x-python",
   "name": "python",
   "nbconvert_exporter": "python",
   "pygments_lexer": "ipython3",
   "version": "3.7.8"
  }
 },
 "nbformat": 4,
 "nbformat_minor": 4
}
