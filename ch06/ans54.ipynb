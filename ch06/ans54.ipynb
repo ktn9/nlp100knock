{
 "cells": [
  {
   "cell_type": "code",
   "execution_count": 1,
   "metadata": {},
   "outputs": [],
   "source": [
    "import pandas as pd\n",
    "import joblib\n",
    "from sklearn.linear_model import LogisticRegression\n",
    "from sklearn.metrics import accuracy_score\n",
    "from sklearn.preprocessing import LabelEncoder"
   ]
  },
  {
   "cell_type": "code",
   "execution_count": 2,
   "metadata": {},
   "outputs": [],
   "source": [
    "model = joblib.load(\"model.joblib\")"
   ]
  },
  {
   "cell_type": "code",
   "execution_count": 7,
   "metadata": {},
   "outputs": [],
   "source": [
    "X_train = pd.read_table(\"train.feature.txt\",header=None)\n",
    "\n",
    "y_train = pd.read_table(\"train.txt\",header=None)\n",
    "le = LabelEncoder()\n",
    "le = le.fit(y_train[0])\n",
    "y_train = le.transform(y_train[0])\n",
    "\n",
    "pred = model.predict(X_train)"
   ]
  },
  {
   "cell_type": "code",
   "execution_count": 8,
   "metadata": {},
   "outputs": [
    {
     "name": "stdout",
     "output_type": "stream",
     "text": [
      "0.9968994028479559\n"
     ]
    }
   ],
   "source": [
    "print(accuracy_score(y_train,pred))"
   ]
  },
  {
   "cell_type": "code",
   "execution_count": 9,
   "metadata": {},
   "outputs": [
    {
     "name": "stdout",
     "output_type": "stream",
     "text": [
      "0.9109274563820018\n"
     ]
    }
   ],
   "source": [
    "X_test = pd.read_table(\"test.feature.txt\",header=None)\n",
    "\n",
    "y_test = pd.read_table(\"test.txt\",header=None)\n",
    "le = LabelEncoder()\n",
    "le = le.fit(y_test[0])\n",
    "y_test = le.transform(y_test[0])\n",
    "\n",
    "pred = model.predict(X_test)\n",
    "\n",
    "print(accuracy_score(y_test,pred))"
   ]
  },
  {
   "cell_type": "code",
   "execution_count": null,
   "metadata": {},
   "outputs": [],
   "source": []
  }
 ],
 "metadata": {
  "kernelspec": {
   "display_name": "Python 3",
   "language": "python",
   "name": "python3"
  },
  "language_info": {
   "codemirror_mode": {
    "name": "ipython",
    "version": 3
   },
   "file_extension": ".py",
   "mimetype": "text/x-python",
   "name": "python",
   "nbconvert_exporter": "python",
   "pygments_lexer": "ipython3",
   "version": "3.7.8"
  }
 },
 "nbformat": 4,
 "nbformat_minor": 4
}
