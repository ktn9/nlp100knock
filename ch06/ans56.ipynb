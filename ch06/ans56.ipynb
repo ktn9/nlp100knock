{
 "cells": [
  {
   "cell_type": "code",
   "execution_count": 1,
   "metadata": {},
   "outputs": [],
   "source": [
    "import pandas as pd\n",
    "import joblib\n",
    "from sklearn.linear_model import LogisticRegression\n",
    "from sklearn.metrics import recall_score,precision_score,f1_score\n",
    "from sklearn.preprocessing import LabelEncoder"
   ]
  },
  {
   "cell_type": "code",
   "execution_count": 2,
   "metadata": {},
   "outputs": [],
   "source": [
    "model = joblib.load(\"model.joblib\")"
   ]
  },
  {
   "cell_type": "code",
   "execution_count": 3,
   "metadata": {},
   "outputs": [],
   "source": [
    "X_test = pd.read_table(\"test.feature.txt\",header=None)\n",
    "\n",
    "y_test = pd.read_table(\"test.txt\",header=None)\n",
    "le = LabelEncoder()\n",
    "le = le.fit(y_test[0])\n",
    "y_test = le.transform(y_test[0])\n",
    "\n",
    "pred = model.predict(X_test)"
   ]
  },
  {
   "cell_type": "code",
   "execution_count": 4,
   "metadata": {},
   "outputs": [
    {
     "name": "stdout",
     "output_type": "stream",
     "text": [
      "test recall of None: [0.95167286 0.97536946 0.57407407 0.58241758]\n",
      "test recall of micro: 0.9109274563820018\n",
      "test recall of macro: 0.7708834942683167\n",
      "test precision of None: [0.92585895 0.90617849 0.86111111 0.84126984]\n",
      "test precision of micro: 0.9109274563820018\n",
      "test precision of macro: 0.8836045983147192\n",
      "test f1 of None: [0.93858845 0.93950178 0.68888889 0.68831169]\n",
      "test f1 of micro: 0.9109274563820018\n",
      "test f1 of macro: 0.8138227018806068\n"
     ]
    }
   ],
   "source": [
    "print(f'test recall of None: {recall_score(y_test, pred, average=None)}')\n",
    "print(f'test recall of micro: {recall_score(y_test, pred, average=\"micro\")}')\n",
    "print(f'test recall of macro: {recall_score(y_test, pred, average=\"macro\")}')\n",
    "print(f'test precision of None: {precision_score(y_test, pred, average=None)}')\n",
    "print(f'test precision of micro: {precision_score(y_test, pred, average=\"micro\")}')\n",
    "print(f'test precision of macro: {precision_score(y_test, pred, average=\"macro\")}')\n",
    "print(f'test f1 of None: {f1_score(y_test, pred, average=None)}')\n",
    "print(f'test f1 of micro: {f1_score(y_test, pred, average=\"micro\")}')\n",
    "print(f'test f1 of macro: {f1_score(y_test, pred, average=\"macro\")}')"
   ]
  },
  {
   "cell_type": "code",
   "execution_count": null,
   "metadata": {},
   "outputs": [],
   "source": []
  }
 ],
 "metadata": {
  "kernelspec": {
   "display_name": "Python 3",
   "language": "python",
   "name": "python3"
  },
  "language_info": {
   "codemirror_mode": {
    "name": "ipython",
    "version": 3
   },
   "file_extension": ".py",
   "mimetype": "text/x-python",
   "name": "python",
   "nbconvert_exporter": "python",
   "pygments_lexer": "ipython3",
   "version": "3.7.8"
  }
 },
 "nbformat": 4,
 "nbformat_minor": 4
}
