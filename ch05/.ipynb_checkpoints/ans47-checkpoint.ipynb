{
 "cells": [
  {
   "cell_type": "code",
   "execution_count": 1,
   "metadata": {},
   "outputs": [],
   "source": [
    "class Morph:\n",
    "    def __init__(self,surface,attr):\n",
    "        self.surface = surface\n",
    "        self.base = attr[6]\n",
    "        self.pos = attr[0]\n",
    "        self.pos1 = attr[1]"
   ]
  },
  {
   "cell_type": "code",
   "execution_count": 2,
   "metadata": {},
   "outputs": [],
   "source": [
    "class Chunk:\n",
    "    def __init__(self,morphs,dst,srcs):\n",
    "        self.morphs = morphs\n",
    "        self.dst = dst\n",
    "        self.srcs = srcs"
   ]
  },
  {
   "cell_type": "code",
   "execution_count": 3,
   "metadata": {},
   "outputs": [],
   "source": [
    "with open(\"ai.ja.txt.parsed\",mode=\"r\",encoding=\"utf-8\") as f:\n",
    "    txt = f.read()\n",
    "txt = txt.replace(\"EOS\\nEOS\\n\",\"EOS\\n\")"
   ]
  },
  {
   "cell_type": "code",
   "execution_count": 4,
   "metadata": {},
   "outputs": [],
   "source": [
    "from collections import defaultdict\n",
    "\n",
    "res = []\n",
    "for s in txt.split(\"EOS\\n\"):\n",
    "    sent = []\n",
    "    src_d = defaultdict(list)\n",
    "\n",
    "    for line_ind, line in enumerate(s.split(\"\\n\")):\n",
    "\n",
    "        if line == \"\":\n",
    "            continue\n",
    "\n",
    "        elif line[0] == \"*\":\n",
    "            morphs = []\n",
    "\n",
    "            _, ind, dst, *_ = line.split()\n",
    "            dst = int(dst.replace(\"D\", \"\"))\n",
    "            src_d[dst].append(int(ind))\n",
    "\n",
    "            if ind != 0:\n",
    "                srcs = src_d[int(ind)]\n",
    "                chunk = Chunk(morphs, dst, srcs)\n",
    "                sent.append(chunk)\n",
    "        else:\n",
    "            surface, attr = line.split()\n",
    "            attr = attr.split(\",\")\n",
    "            morphs.append(Morph(surface, attr))\n",
    "\n",
    "    res.append(sent)"
   ]
  },
  {
   "cell_type": "code",
   "execution_count": 5,
   "metadata": {},
   "outputs": [],
   "source": [
    "pred_case = []\n",
    "for s in res:\n",
    "    case_lst = []\n",
    "    for chunk in s:\n",
    "        case_lst.append([(morph.surface,tuple([morph.surface for morph in chunk.morphs if morph.pos != \"記号\"])) for morph in chunk.morphs if morph.pos == \"助詞\"])     \n",
    "        \n",
    "    for chunk in s:\n",
    "        pred = \"\"\n",
    "        case = []\n",
    "                \n",
    "        for mo in chunk.morphs:\n",
    "            if \"動詞\" == mo.pos:\n",
    "                for ind in chunk.srcs:\n",
    "                    for morph_ind in range(len(s[ind].morphs)-1):\n",
    "                        if s[ind].morphs[morph_ind].pos1 == \"サ変接続\" and s[ind].morphs[morph_ind+1].surface == \"を\" and s[s[ind].dst].morphs[0].pos == \"動詞\":\n",
    "                            pred = s[ind].morphs[morph_ind].base + \"を\" + mo.base\n",
    "                            for ind_ in chunk.srcs:\n",
    "                                for v in case_lst[ind_]:\n",
    "                                    case.append(v)\n",
    "                                if case_lst[ind][0] in case:\n",
    "                                    case.remove(case_lst[ind][0])\n",
    "                            break\n",
    "                        \n",
    "        if pred != \"\":\n",
    "            case = sorted(list(set(case)))\n",
    "            pred_case.append((pred,case))"
   ]
  },
  {
   "cell_type": "code",
   "execution_count": 6,
   "metadata": {},
   "outputs": [
    {
     "name": "stdout",
     "output_type": "stream",
     "text": [
      "行動を代わる\tに\t人間に\n",
      "処理を用いる\t\t\n",
      "記述をする\tと\t主体と\n",
      "注目を集める\tが\tサポートベクターマシンが\n",
      "学習を行う\tに を\t元に 経験を\n",
      "流行を超える\t\t\n",
      "学習を繰り返す\t\t\n",
      "進化をいる\tて て において は\t加えて 活躍している 生成技術において 敵対的生成ネットワークは\n",
      "生成をいく\t\t\n",
      "開発を行う\tは\tエイダ・ラブレスは\n",
      "処理をせる\t\t\n",
      "処理をせる\tに に により\tWebに 同年に ティム・バーナーズリーにより\n",
      "処理をせる\tて に\t付加して コンピュータに\n",
      "研究を進める\tて\t費やして\n",
      "注目を集める\tから は\tことから ファジィは\n",
      "成功を受ける\t\t\n",
      "制御を用いる\tて も\t受けて 他社も\n",
      "進歩を担う\t\t\n",
      "改善を果たす\tが で に\tチームが 画像処理コンテストで 2012年に\n",
      "プログラムを使う\t\t\n",
      "研究をいる\tが て\tジェフホーキンスが 向けて\n",
      "注目を集める\tに\t急速に\n",
      "普及を受ける\t\t\n",
      "学習を組み合わせる\t\t\n",
      "投資を行う\tで に\t民間企業主導で 全世界的に\n",
      "探索を行う\tで\t無報酬で\n",
      "研究をおる\tとも は\tマックスプランク研究所とも Googleは\n",
      "研究をいる\tて\t始めており\n",
      "実験をする\t\t\n",
      "投資をする\tに は まで\t2022年までに 韓国は 2022年までに\n",
      "シミュレーションを行う\t\t\n",
      "反乱を起こす\tて に対して\t於いて 人間に対して\n",
      "弾圧を併せ持つ\t\t\n",
      "監視をせる\tに まで\t人工知能に 歩行者まで\n",
      "手続きを経る\tを\tウイグル族を\n",
      "差別を認める\t\t\n",
      "展開を変える\t\t\n",
      "判断を介す\tから\t観点から\n",
      "禁止をいる\tが に は\tヒューマン・ライツ・ウォッチが 4月には 4月には\n",
      "運用をめぐる\t\t\n",
      "競争をいる\tは をめぐって\t米国中国ロシアは 軍事利用をめぐって\n",
      "試験を行う\t\t\n",
      "追及を受ける\tて で で と とともに は\t暴露されており 公聴会では 整合性で 拒否すると とともに 公聴会では\n",
      "存在を見いだす\tに\tものに\n",
      "話をいる\tは\t哲学者は\n",
      "疎通を行う\t\t\n",
      "勘違いをする\t\t\n",
      "議論をくる\tまで\tこれまで\n"
     ]
    }
   ],
   "source": [
    "for i,j in pred_case:\n",
    "    tmp1 = []\n",
    "    tmp2 = []\n",
    "    for k,l in j:\n",
    "        tmp1.append(k)\n",
    "        tmp2.append(\"\".join(l))\n",
    "    print(i + \"\\t\" + \" \".join(tmp1) + \"\\t\" + \" \".join(tmp2))"
   ]
  },
  {
   "cell_type": "code",
   "execution_count": null,
   "metadata": {},
   "outputs": [],
   "source": []
  }
 ],
 "metadata": {
  "kernelspec": {
   "display_name": "Python 3",
   "language": "python",
   "name": "python3"
  },
  "language_info": {
   "codemirror_mode": {
    "name": "ipython",
    "version": 3
   },
   "file_extension": ".py",
   "mimetype": "text/x-python",
   "name": "python",
   "nbconvert_exporter": "python",
   "pygments_lexer": "ipython3",
   "version": "3.7.6"
  }
 },
 "nbformat": 4,
 "nbformat_minor": 4
}
