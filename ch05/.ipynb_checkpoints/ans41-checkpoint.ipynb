{
 "cells": [
  {
   "cell_type": "code",
   "execution_count": 1,
   "metadata": {},
   "outputs": [],
   "source": [
    "class Morph:\n",
    "    def __init__(self,surface,attr):\n",
    "        self.surface = surface\n",
    "        self.base = attr[6]\n",
    "        self.pos = attr[0]\n",
    "        self.pos1 = attr[1]"
   ]
  },
  {
   "cell_type": "code",
   "execution_count": 2,
   "metadata": {},
   "outputs": [],
   "source": [
    "class Chunk:\n",
    "    def __init__(self,morphs,dst,srcs):\n",
    "        self.morphs = morphs\n",
    "        self.dst = dst\n",
    "        self.srcs = srcs"
   ]
  },
  {
   "cell_type": "code",
   "execution_count": 3,
   "metadata": {},
   "outputs": [],
   "source": [
    "with open(\"ai.ja.txt.parsed\",mode=\"r\",encoding=\"utf-8\") as f:\n",
    "    txt = f.read()\n",
    "txt = txt.replace(\"EOS\\nEOS\\n\",\"EOS\\n\")"
   ]
  },
  {
   "cell_type": "code",
   "execution_count": 4,
   "metadata": {},
   "outputs": [],
   "source": [
    "from collections import defaultdict\n",
    "\n",
    "res = []\n",
    "for s in txt.split(\"EOS\\n\"):\n",
    "    sent = []\n",
    "    src_d = defaultdict(list)\n",
    "\n",
    "    for line_ind, line in enumerate(s.split(\"\\n\")):\n",
    "        \n",
    "        if line == \"\":\n",
    "            continue\n",
    "            \n",
    "        elif line[0] == \"*\":\n",
    "            morphs = []\n",
    "            \n",
    "            _, ind, dst, *_ = line.split()\n",
    "            dst = int(dst.replace(\"D\", \"\"))\n",
    "            src_d[dst].append(int(ind))\n",
    "\n",
    "            if ind != 0:\n",
    "                srcs = src_d[int(ind)]\n",
    "                chunk = Chunk(morphs, dst, srcs)\n",
    "                sent.append(chunk)\n",
    "        else:\n",
    "            surface, attr = line.split()\n",
    "            attr = attr.split(\",\")\n",
    "            morphs.append(Morph(surface, attr))\n",
    "\n",
    "    res.append(sent)"
   ]
  },
  {
   "cell_type": "code",
   "execution_count": 5,
   "metadata": {},
   "outputs": [
    {
     "name": "stdout",
     "output_type": "stream",
     "text": [
      "['人工', '知能'] 17 []\n",
      "['（', 'じん', 'こうち', 'のう', '、', '、'] 17 []\n",
      "['AI'] 3 []\n",
      "['〈', 'エーアイ', '〉', '）', 'と', 'は', '、'] 17 [2]\n",
      "['「', '『', '計算'] 5 []\n",
      "['（', '）', '』', 'という'] 9 [4]\n",
      "['概念', 'と'] 9 []\n",
      "['『', 'コンピュータ'] 8 []\n",
      "['（', '）', '』', 'という'] 9 [7]\n",
      "['道具', 'を'] 10 [5, 6, 8]\n",
      "['用い', 'て'] 12 [9]\n",
      "['『', '知能', '』', 'を'] 12 []\n",
      "['研究', 'する'] 13 [10, 11]\n",
      "['計算', '機', '科学'] 14 [12]\n",
      "['（', '）', 'の'] 15 [13]\n",
      "['一', '分野', '」', 'を'] 16 [14]\n",
      "['指す'] 17 [15]\n",
      "['語', '。'] 34 [0, 1, 3, 16]\n",
      "['「', '言語', 'の'] 20 []\n",
      "['理解', 'や'] 20 []\n",
      "['推論', '、'] 21 [18, 19]\n",
      "['問題', '解決', 'など', 'の'] 22 [20]\n",
      "['知的', '行動', 'を'] 24 [21]\n",
      "['人間', 'に'] 24 []\n",
      "['代わっ', 'て'] 26 [22, 23]\n",
      "['コンピューター', 'に'] 26 []\n",
      "['行わ', 'せる'] 27 [24, 25]\n",
      "['技術', '」', '、', 'または', '、'] 34 [26]\n",
      "['「', '計算', '機'] 29 []\n",
      "['（', 'コンピュータ', '）', 'による'] 31 [28]\n",
      "['知的', 'な'] 31 []\n",
      "['情報処理', 'システム', 'の'] 33 [29, 30]\n",
      "['設計', 'や'] 33 []\n",
      "['実現', 'に関する'] 34 [31, 32]\n",
      "['研究', '分野', '」', 'と', 'も'] 35 [17, 27, 33]\n",
      "['さ', 'れる', '。'] -1 [34]\n"
     ]
    }
   ],
   "source": [
    "for chunk in res[1]:\n",
    "    print([mo.surface for mo in chunk.morphs],chunk.dst,chunk.srcs)"
   ]
  },
  {
   "cell_type": "code",
   "execution_count": null,
   "metadata": {},
   "outputs": [],
   "source": []
  }
 ],
 "metadata": {
  "kernelspec": {
   "display_name": "Python 3",
   "language": "python",
   "name": "python3"
  },
  "language_info": {
   "codemirror_mode": {
    "name": "ipython",
    "version": 3
   },
   "file_extension": ".py",
   "mimetype": "text/x-python",
   "name": "python",
   "nbconvert_exporter": "python",
   "pygments_lexer": "ipython3",
   "version": "3.7.6"
  }
 },
 "nbformat": 4,
 "nbformat_minor": 4
}
