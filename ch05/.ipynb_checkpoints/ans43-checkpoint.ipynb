{
 "cells": [
  {
   "cell_type": "code",
   "execution_count": 2,
   "metadata": {},
   "outputs": [],
   "source": [
    "class Morph:\n",
    "    def __init__(self,surface,attr):\n",
    "        self.surface = surface\n",
    "        self.base = attr[6]\n",
    "        self.pos = attr[0]\n",
    "        self.pos1 = attr[1]"
   ]
  },
  {
   "cell_type": "code",
   "execution_count": 3,
   "metadata": {},
   "outputs": [],
   "source": [
    "class Chunk:\n",
    "    def __init__(self,morphs,dst,srcs):\n",
    "        self.morphs = morphs\n",
    "        self.dst = dst\n",
    "        self.srcs = srcs"
   ]
  },
  {
   "cell_type": "code",
   "execution_count": 4,
   "metadata": {},
   "outputs": [],
   "source": [
    "with open(\"ai.ja.txt.parsed\",mode=\"r\",encoding=\"utf-8\") as f:\n",
    "    txt = f.read()\n",
    "txt = txt.replace(\"EOS\\nEOS\\n\",\"EOS\\n\")"
   ]
  },
  {
   "cell_type": "code",
   "execution_count": 5,
   "metadata": {},
   "outputs": [],
   "source": [
    "from collections import defaultdict\n",
    "\n",
    "res = []\n",
    "for s in txt.split(\"EOS\\n\"):\n",
    "    sent = []\n",
    "    src_d = defaultdict(list)\n",
    "\n",
    "    for line_ind, line in enumerate(s.split(\"\\n\")):\n",
    "\n",
    "        if line == \"\":\n",
    "            continue\n",
    "\n",
    "        elif line[0] == \"*\":\n",
    "            morphs = []\n",
    "\n",
    "            _, ind, dst, *_ = line.split()\n",
    "            dst = int(dst.replace(\"D\", \"\"))\n",
    "            src_d[dst].append(int(ind))\n",
    "\n",
    "            if ind != 0:\n",
    "                srcs = src_d[int(ind)]\n",
    "                chunk = Chunk(morphs, dst, srcs)\n",
    "                sent.append(chunk)\n",
    "        else:\n",
    "            surface, attr = line.split()\n",
    "            attr = attr.split(\",\")\n",
    "            morphs.append(Morph(surface, attr))\n",
    "\n",
    "    res.append(sent)"
   ]
  },
  {
   "cell_type": "code",
   "execution_count": 9,
   "metadata": {},
   "outputs": [
    {
     "name": "stdout",
     "output_type": "stream",
     "text": [
      "道具を\t用いて\n",
      "知能を\t研究する\n",
      "一分野を\t指す\n",
      "知的行動を\t代わって\n",
      "人間に\t代わって\n",
      "コンピューターに\t行わせる\n",
      "研究分野とも\tされる\n"
     ]
    }
   ],
   "source": [
    "symbol = set([\"。\",\"、\",\"（\",\"）\",\"「\",\"」\",\"『\",\"』\",\"〈\",\"〉\"])\n",
    "sent_lst = [(\"\".join([mo.surface for mo in chunk.morphs if mo.surface not in symbol]),\n",
    "             chunk.dst,\n",
    "            set([mo.pos for mo in chunk.morphs if mo.surface not in symbol])\n",
    "            )for chunk in res[1]]\n",
    "for i,j,k in sent_lst:\n",
    "    if \"名詞\" in k and \"動詞\" in sent_lst[j][2]:\n",
    "        print(i,sent_lst[j][0],sep=\"\\t\")"
   ]
  }
 ],
 "metadata": {
  "kernelspec": {
   "display_name": "Python 3",
   "language": "python",
   "name": "python3"
  },
  "language_info": {
   "codemirror_mode": {
    "name": "ipython",
    "version": 3
   },
   "file_extension": ".py",
   "mimetype": "text/x-python",
   "name": "python",
   "nbconvert_exporter": "python",
   "pygments_lexer": "ipython3",
   "version": "3.7.6"
  }
 },
 "nbformat": 4,
 "nbformat_minor": 4
}
