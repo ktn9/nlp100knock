{
 "cells": [
  {
   "cell_type": "code",
   "execution_count": 1,
   "metadata": {},
   "outputs": [],
   "source": [
    "class Morph:\n",
    "    def __init__(self,surface,attr):\n",
    "        self.surface = surface\n",
    "        self.base = attr[6]\n",
    "        self.pos = attr[0]\n",
    "        self.pos1 = attr[1]"
   ]
  },
  {
   "cell_type": "code",
   "execution_count": 2,
   "metadata": {},
   "outputs": [],
   "source": [
    "class Chunk:\n",
    "    def __init__(self,morphs,dst,srcs):\n",
    "        self.morphs = morphs\n",
    "        self.dst = dst\n",
    "        self.srcs = srcs"
   ]
  },
  {
   "cell_type": "code",
   "execution_count": 3,
   "metadata": {},
   "outputs": [],
   "source": [
    "with open(\"ai.ja.txt.parsed\",mode=\"r\",encoding=\"utf-8\") as f:\n",
    "    txt = f.read()\n",
    "txt = txt.replace(\"EOS\\nEOS\\n\",\"EOS\\n\")"
   ]
  },
  {
   "cell_type": "code",
   "execution_count": 4,
   "metadata": {},
   "outputs": [],
   "source": [
    "from collections import defaultdict\n",
    "\n",
    "res = []\n",
    "for s in txt.split(\"EOS\\n\"):\n",
    "    sent = []\n",
    "    src_d = defaultdict(list)\n",
    "\n",
    "    for line_ind, line in enumerate(s.split(\"\\n\")):\n",
    "        \n",
    "        if line == \"\":\n",
    "            continue\n",
    "            \n",
    "        elif line[0] == \"*\":\n",
    "            morphs = []\n",
    "            \n",
    "            _, ind, dst, *_ = line.split()\n",
    "            dst = int(dst.replace(\"D\", \"\"))\n",
    "            src_d[dst].append(int(ind))\n",
    "\n",
    "            if ind != 0:\n",
    "                srcs = src_d[int(ind)]\n",
    "                chunk = Chunk(morphs, dst, srcs)\n",
    "                sent.append(chunk)\n",
    "        else:\n",
    "            surface, attr = line.split()\n",
    "            attr = attr.split(\",\")\n",
    "            morphs.append(Morph(surface, attr))\n",
    "\n",
    "    res.append(sent)"
   ]
  },
  {
   "cell_type": "code",
   "execution_count": 17,
   "metadata": {},
   "outputs": [
    {
     "name": "stdout",
     "output_type": "stream",
     "text": [
      "人工知能\t語\n",
      "じんこうちのう\t語\n",
      "AI\tエーアイとは\n",
      "エーアイとは\t語\n",
      "計算\tという\n",
      "という\t道具を\n",
      "概念と\t道具を\n",
      "コンピュータ\tという\n",
      "という\t道具を\n",
      "道具を\t用いて\n",
      "用いて\t研究する\n",
      "知能を\t研究する\n",
      "研究する\t計算機科学\n",
      "計算機科学\tの\n",
      "の\t一分野を\n",
      "一分野を\t指す\n",
      "指す\t語\n",
      "語\t研究分野とも\n",
      "言語の\t推論\n",
      "理解や\t推論\n",
      "推論\t問題解決などの\n",
      "問題解決などの\t知的行動を\n",
      "知的行動を\t代わって\n",
      "人間に\t代わって\n",
      "代わって\t行わせる\n",
      "コンピューターに\t行わせる\n",
      "行わせる\t技術または\n",
      "技術または\t研究分野とも\n",
      "計算機\tコンピュータによる\n",
      "コンピュータによる\t情報処理システムの\n",
      "知的な\t情報処理システムの\n",
      "情報処理システムの\t実現に関する\n",
      "設計や\t実現に関する\n",
      "実現に関する\t研究分野とも\n",
      "研究分野とも\tされる\n",
      "される\tされる\n"
     ]
    }
   ],
   "source": [
    "symbol = set([\"。\",\"、\",\"（\",\"）\",\"「\",\"」\",\"『\",\"』\",\"〈\",\"〉\"])\n",
    "sent_lst = [(\"\".join([mo.surface for mo in chunk.morphs if mo.surface not in symbol]),chunk.dst )for chunk in res[1]]\n",
    "for i,j in sent_lst:\n",
    "    print(i,sent_lst[j][0],sep=\"\\t\")"
   ]
  },
  {
   "cell_type": "code",
   "execution_count": null,
   "metadata": {},
   "outputs": [],
   "source": []
  }
 ],
 "metadata": {
  "kernelspec": {
   "display_name": "Python 3",
   "language": "python",
   "name": "python3"
  },
  "language_info": {
   "codemirror_mode": {
    "name": "ipython",
    "version": 3
   },
   "file_extension": ".py",
   "mimetype": "text/x-python",
   "name": "python",
   "nbconvert_exporter": "python",
   "pygments_lexer": "ipython3",
   "version": "3.7.6"
  }
 },
 "nbformat": 4,
 "nbformat_minor": 4
}
