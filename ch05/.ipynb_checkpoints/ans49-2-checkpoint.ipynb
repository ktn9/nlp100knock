{
 "cells": [
  {
   "cell_type": "code",
   "execution_count": 2,
   "metadata": {},
   "outputs": [
    {
     "name": "stdout",
     "output_type": "stream",
     "text": [
      "ジョン・マッカーシーはAIに関する最初の会議で人工知能という用語を作り出した。\n"
     ]
    }
   ],
   "source": [
    "import CaboCha\n",
    "\n",
    "c = CaboCha.Parser()\n",
    "\n",
    "txt = input()\n",
    "\n",
    "tree =  c.parse(txt)\n",
    "cabocha_lattice = tree.toString(CaboCha.FORMAT_LATTICE)"
   ]
  },
  {
   "cell_type": "code",
   "execution_count": 3,
   "metadata": {},
   "outputs": [],
   "source": [
    "class Morph:\n",
    "    def __init__(self,surface,attr):\n",
    "        self.surface = surface\n",
    "        self.base = attr[6]\n",
    "        self.pos = attr[0]\n",
    "        self.pos1 = attr[1]"
   ]
  },
  {
   "cell_type": "code",
   "execution_count": 4,
   "metadata": {},
   "outputs": [],
   "source": [
    "class Chunk:\n",
    "    def __init__(self,morphs,dst,srcs):\n",
    "        self.morphs = morphs\n",
    "        self.dst = dst\n",
    "        self.srcs = srcs"
   ]
  },
  {
   "cell_type": "code",
   "execution_count": 5,
   "metadata": {},
   "outputs": [],
   "source": [
    "from collections import defaultdict\n",
    "\n",
    "res = []\n",
    "for s in cabocha_lattice.split(\"EOS\\n\"):\n",
    "    sent = []\n",
    "    src_d = defaultdict(list)\n",
    "\n",
    "    for line_ind, line in enumerate(s.split(\"\\n\")):\n",
    "\n",
    "        if line == \"\":\n",
    "            continue\n",
    "\n",
    "        elif line[0] == \"*\":\n",
    "            morphs = []\n",
    "\n",
    "            _, ind, dst, *_ = line.split()\n",
    "            dst = int(dst.replace(\"D\", \"\"))\n",
    "            src_d[dst].append(int(ind))\n",
    "\n",
    "            if ind != 0:\n",
    "                srcs = src_d[int(ind)]\n",
    "                chunk = Chunk(morphs, dst, srcs)\n",
    "                sent.append(chunk)\n",
    "        else:\n",
    "            surface, attr = line.split()\n",
    "            attr = attr.split(\",\")\n",
    "            morphs.append(Morph(surface, attr))\n",
    "\n",
    "    res.append(sent)"
   ]
  },
  {
   "cell_type": "code",
   "execution_count": 7,
   "metadata": {},
   "outputs": [
    {
     "name": "stdout",
     "output_type": "stream",
     "text": [
      "XXは | Yに関する->最初の->会議で | 作り出した\n",
      "XXは | Yの->会議で | 作り出した\n",
      "XXは | Yで | 作り出した\n",
      "XXは | YYという->用語を | 作り出した\n",
      "XXは | Yを | 作り出した\n",
      "Xに関する->Yの\n",
      "Xに関する->最初の->Yで\n",
      "Xに関する->最初の->会議で | YYという->用語を | 作り出した\n",
      "Xに関する->最初の->会議で | Yを | 作り出した\n",
      "Xの->Yで\n",
      "Xの->会議で | YYという->用語を | 作り出した\n",
      "Xの->会議で | Yを | 作り出した\n",
      "Xで | YYという->用語を | 作り出した\n",
      "Xで | Yを | 作り出した\n",
      "XXという->Yを\n"
     ]
    }
   ],
   "source": [
    "from itertools import combinations\n",
    "for sent in [res[0]]:\n",
    "    noun_index = []\n",
    "    for ind,chunk in enumerate(sent):\n",
    "        if \"名詞\" in set([morph.pos for morph in chunk.morphs]):\n",
    "            noun_index.append(ind)\n",
    "            \n",
    "    for i,j in combinations(noun_index,2):\n",
    "        X_pass = [i]\n",
    "        Y_pass = [j]\n",
    "        \n",
    "        ind = sent[i].dst\n",
    "        while True:\n",
    "            if ind == -1:\n",
    "                break\n",
    "            else:\n",
    "                X_pass.append(ind)\n",
    "                ind = sent[ind].dst\n",
    "        \n",
    "        ind = sent[j].dst\n",
    "        while True:\n",
    "            if ind == -1:\n",
    "                break\n",
    "            else:\n",
    "                Y_pass.append(ind)\n",
    "                ind = sent[ind].dst\n",
    "                \n",
    "        X_chunk = []\n",
    "        for morph in sent[i].morphs:\n",
    "            if morph.pos == \"名詞\":\n",
    "                X_chunk.append(\"X\")\n",
    "            elif morph.pos == \"記号\":\n",
    "                continue\n",
    "            else:\n",
    "                X_chunk.append(morph.surface)\n",
    "        \n",
    "        \n",
    "        Y_chunk = []\n",
    "        for morph in sent[j].morphs:\n",
    "            if morph.pos == \"名詞\":\n",
    "                Y_chunk.append(\"Y\")\n",
    "            elif morph.pos == \"記号\":\n",
    "                continue\n",
    "            else:\n",
    "                Y_chunk.append(morph.surface)\n",
    "        \n",
    "        disp = \"\".join(X_chunk)\n",
    "        if j in X_pass:\n",
    "            for xind in X_pass[1:]:\n",
    "                if xind == j:\n",
    "                    break\n",
    "                disp += (\"->\" + \"\".join([morph.surface for morph in sent[xind].morphs if morph.pos != \"記号\"]))\n",
    "            disp += (\"->\" + \"\".join(Y_chunk))\n",
    "            \n",
    "        else:\n",
    "            for xind in X_pass[1:-1]:\n",
    "                disp += (\"->\" + \"\".join([morph.surface for morph in sent[xind].morphs if morph.pos != \"記号\"]))\n",
    "            disp += (\" | \" + \"\".join(Y_chunk))\n",
    "            for yind in Y_pass[1:-1]:\n",
    "                disp += (\"->\" + \"\".join([morph.surface for morph in sent[yind].morphs if morph.pos != \"記号\"]))\n",
    "            \n",
    "            disp += (\" | \" + \"\".join([morph.surface for morph in sent[X_pass[-1]].morphs if morph.pos != \"記号\"]))\n",
    "            \n",
    "        print(disp)"
   ]
  },
  {
   "cell_type": "code",
   "execution_count": null,
   "metadata": {},
   "outputs": [],
   "source": []
  }
 ],
 "metadata": {
  "kernelspec": {
   "display_name": "Python 3",
   "language": "python",
   "name": "python3"
  },
  "language_info": {
   "codemirror_mode": {
    "name": "ipython",
    "version": 3
   },
   "file_extension": ".py",
   "mimetype": "text/x-python",
   "name": "python",
   "nbconvert_exporter": "python",
   "pygments_lexer": "ipython3",
   "version": "3.7.6"
  }
 },
 "nbformat": 4,
 "nbformat_minor": 4
}
