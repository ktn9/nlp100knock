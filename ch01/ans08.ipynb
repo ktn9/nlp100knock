{
 "cells": [
  {
   "cell_type": "code",
   "execution_count": 9,
   "metadata": {},
   "outputs": [
    {
     "name": "stdout",
     "output_type": "stream",
     "text": [
      "Omv xzm kilev hlnvgsrmt rh klhhryov yfg ml lmv xzm kilev hlnvgsrmt rh rnklhhryov.\n",
      "One can prove something is possible but no one can prove something is impossible.\n"
     ]
    }
   ],
   "source": [
    "def cipher(s):\n",
    "    S = [chr(219-ord(w)) if w.islower() else w for w in s]\n",
    "    return \"\".join(S)\n",
    "\n",
    "text = 'One can prove something is possible but no one can prove something is impossible.'\n",
    "ans = cipher(text)\n",
    "print(ans)\n",
    "ans = cipher(ans)\n",
    "print(ans)"
   ]
  }
 ],
 "metadata": {
  "kernelspec": {
   "display_name": "Python 3",
   "language": "python",
   "name": "python3"
  },
  "language_info": {
   "codemirror_mode": {
    "name": "ipython",
    "version": 3
   },
   "file_extension": ".py",
   "mimetype": "text/x-python",
   "name": "python",
   "nbconvert_exporter": "python",
   "pygments_lexer": "ipython3",
   "version": "3.7.6"
  }
 },
 "nbformat": 4,
 "nbformat_minor": 4
}
