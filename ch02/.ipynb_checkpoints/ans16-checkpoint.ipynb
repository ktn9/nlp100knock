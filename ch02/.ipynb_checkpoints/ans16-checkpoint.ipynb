{
 "cells": [
  {
   "cell_type": "code",
   "execution_count": 1,
   "metadata": {},
   "outputs": [],
   "source": [
    "import pandas as pd\n",
    "txt = pd.read_table(\"popular-names.txt\",sep=\"\\t\",header=None)"
   ]
  },
  {
   "cell_type": "code",
   "execution_count": 12,
   "metadata": {},
   "outputs": [
    {
     "name": "stdout",
     "output_type": "stream",
     "text": [
      "             0  1     2     3\n",
      "0         Mary  F  7065  1880\n",
      "1         Anna  F  2604  1880\n",
      "2         Emma  F  2003  1880\n",
      "3    Elizabeth  F  1939  1880\n",
      "4       Minnie  F  1746  1880\n",
      "..         ... ..   ...   ...\n",
      "552      James  M  6707  1907\n",
      "553     George  M  4445  1907\n",
      "554     Robert  M  4020  1907\n",
      "555    Charles  M  3884  1907\n",
      "556     Joseph  M  3844  1907\n",
      "\n",
      "[557 rows x 4 columns]\n",
      "           0  1      2     3\n",
      "556   Joseph  M   3844  1907\n",
      "557    Frank  M   2943  1907\n",
      "558   Edward  M   2576  1907\n",
      "559    Henry  M   2203  1907\n",
      "560     Mary  F  18665  1908\n",
      "...      ... ..    ...   ...\n",
      "1108   Nancy  F  14544  1935\n",
      "1109   Helen  F  12781  1935\n",
      "1110  Robert  M  56524  1935\n",
      "1111   James  M  55000  1935\n",
      "1112    John  M  47499  1935\n",
      "\n",
      "[557 rows x 4 columns]\n",
      "             0  1      2     3\n",
      "1112      John  M  47499  1935\n",
      "1113   William  M  40198  1935\n",
      "1114   Richard  M  33945  1935\n",
      "1115   Charles  M  29983  1935\n",
      "1116    Donald  M  29661  1935\n",
      "...        ... ..    ...   ...\n",
      "1664     Linda  F  27719  1963\n",
      "1665     Donna  F  25399  1963\n",
      "1666  Patricia  F  25371  1963\n",
      "1667      Lori  F  23907  1963\n",
      "1668    Sandra  F  21619  1963\n",
      "\n",
      "[557 rows x 4 columns]\n",
      "             0  1      2     3\n",
      "1668    Sandra  F  21619  1963\n",
      "1669   Cynthia  F  21593  1963\n",
      "1670   Michael  M  83782  1963\n",
      "1671      John  M  78625  1963\n",
      "1672     David  M  78467  1963\n",
      "...        ... ..    ...   ...\n",
      "2220    Ashley  F  43478  1991\n",
      "2221   Jessica  F  43398  1991\n",
      "2222  Brittany  F  29089  1991\n",
      "2223    Amanda  F  28893  1991\n",
      "2224  Samantha  F  25645  1991\n",
      "\n",
      "[557 rows x 4 columns]\n",
      "              0  1      2     3\n",
      "2224   Samantha  F  25645  1991\n",
      "2225      Sarah  F  25225  1991\n",
      "2226  Stephanie  F  22774  1991\n",
      "2227   Jennifer  F  20673  1991\n",
      "2228  Elizabeth  F  20392  1991\n",
      "...         ... ..    ...   ...\n",
      "2775   Benjamin  M  13381  2018\n",
      "2776     Elijah  M  12886  2018\n",
      "2777      Lucas  M  12585  2018\n",
      "2778      Mason  M  12435  2018\n",
      "2779      Logan  M  12352  2018\n",
      "\n",
      "[556 rows x 4 columns]\n"
     ]
    }
   ],
   "source": [
    "N = 5\n",
    "splt = len(txt)//N\n",
    "cnt = 0\n",
    "for i in range(N):\n",
    "    print(txt.loc[cnt:cnt+splt])\n",
    "    cnt += splt"
   ]
  }
 ],
 "metadata": {
  "kernelspec": {
   "display_name": "Python 3",
   "language": "python",
   "name": "python3"
  },
  "language_info": {
   "codemirror_mode": {
    "name": "ipython",
    "version": 3
   },
   "file_extension": ".py",
   "mimetype": "text/x-python",
   "name": "python",
   "nbconvert_exporter": "python",
   "pygments_lexer": "ipython3",
   "version": "3.7.6"
  }
 },
 "nbformat": 4,
 "nbformat_minor": 4
}
