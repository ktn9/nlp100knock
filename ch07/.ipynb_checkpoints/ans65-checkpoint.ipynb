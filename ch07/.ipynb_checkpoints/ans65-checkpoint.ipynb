{
 "cells": [
  {
   "cell_type": "code",
   "execution_count": 1,
   "metadata": {},
   "outputs": [],
   "source": [
    "with open(\"ans64.txt\") as f:\n",
    "    txt = f.readlines()"
   ]
  },
  {
   "cell_type": "code",
   "execution_count": 3,
   "metadata": {},
   "outputs": [],
   "source": [
    "sem_cnt = 0\n",
    "sem_cor = 0\n",
    "syn_cnt = 0\n",
    "syn_cor = 0\n",
    "\n",
    "for i in txt:\n",
    "    line = i.split(\" \")\n",
    "    if not line[-1].startswith(\"gram\"):\n",
    "        sem_cnt += 1\n",
    "        if line[3] == line[4]:\n",
    "            sem_cor += 1\n",
    "            \n",
    "    else:\n",
    "        syn_cnt += 1\n",
    "        if line[3] == line[4]:\n",
    "            syn_cor += 1\n"
   ]
  },
  {
   "cell_type": "code",
   "execution_count": 4,
   "metadata": {},
   "outputs": [
    {
     "name": "stdout",
     "output_type": "stream",
     "text": [
      "0.7308602999210734\n"
     ]
    }
   ],
   "source": [
    "print(sem_cor/sem_cnt)"
   ]
  },
  {
   "cell_type": "code",
   "execution_count": 5,
   "metadata": {},
   "outputs": [
    {
     "name": "stdout",
     "output_type": "stream",
     "text": [
      "0.7400468384074942\n"
     ]
    }
   ],
   "source": [
    "print(syn_cor/syn_cnt)"
   ]
  },
  {
   "cell_type": "code",
   "execution_count": null,
   "metadata": {},
   "outputs": [],
   "source": []
  }
 ],
 "metadata": {
  "kernelspec": {
   "display_name": "Python 3",
   "language": "python",
   "name": "python3"
  },
  "language_info": {
   "codemirror_mode": {
    "name": "ipython",
    "version": 3
   },
   "file_extension": ".py",
   "mimetype": "text/x-python",
   "name": "python",
   "nbconvert_exporter": "python",
   "pygments_lexer": "ipython3",
   "version": "3.7.8"
  }
 },
 "nbformat": 4,
 "nbformat_minor": 4
}
