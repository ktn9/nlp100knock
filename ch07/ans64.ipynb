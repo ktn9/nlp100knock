{
 "cells": [
  {
   "cell_type": "code",
   "execution_count": 1,
   "metadata": {},
   "outputs": [],
   "source": [
    "import pandas as pd\n",
    "from tqdm import tqdm"
   ]
  },
  {
   "cell_type": "code",
   "execution_count": 2,
   "metadata": {},
   "outputs": [],
   "source": [
    "from gensim.models import KeyedVectors\n",
    "model = KeyedVectors.load_word2vec_format('GoogleNews-vectors-negative300.bin', binary=True)"
   ]
  },
  {
   "cell_type": "code",
   "execution_count": 11,
   "metadata": {},
   "outputs": [],
   "source": [
    "df = pd.read_table(\"questions-words.txt\",sep=\" \",index_col=False,header=None, names=[\"e1\",\"e2\",\"e3\",\"e4\"],skiprows=[0])"
   ]
  },
  {
   "cell_type": "code",
   "execution_count": 4,
   "metadata": {},
   "outputs": [],
   "source": [
    "df.dropna(inplace=True)\n",
    "df = df.reset_index(drop=True)"
   ]
  },
  {
   "cell_type": "code",
   "execution_count": 5,
   "metadata": {},
   "outputs": [],
   "source": [
    "def calc_simvec(x):\n",
    "    return pd.Series(model.most_similar(positive=[x[\"e2\"], x[\"e3\"]], negative=[x[\"e1\"]])[0])"
   ]
  },
  {
   "cell_type": "code",
   "execution_count": 6,
   "metadata": {},
   "outputs": [
    {
     "name": "stderr",
     "output_type": "stream",
     "text": [
      "C:\\Users\\kitano\\anaconda3\\envs\\nlp\\lib\\site-packages\\tqdm\\std.py:668: FutureWarning: The Panel class is removed from pandas. Accessing it from the top-level namespace will also be removed in the next version\n",
      "  from pandas import Panel\n"
     ]
    }
   ],
   "source": [
    "tqdm.pandas()"
   ]
  },
  {
   "cell_type": "code",
   "execution_count": 7,
   "metadata": {},
   "outputs": [
    {
     "name": "stderr",
     "output_type": "stream",
     "text": [
      "100%|████████████████████████████████████████████████████████████████████████████| 19544/19544 [47:49<00:00,  6.81it/s]\n"
     ]
    }
   ],
   "source": [
    "df[['word', 'score']] = df.progress_apply(calc_simvec, axis=1)"
   ]
  },
  {
   "cell_type": "code",
   "execution_count": 14,
   "metadata": {},
   "outputs": [],
   "source": [
    "with open(\"questions-words.txt\") as f:\n",
    "    s = f.readlines()\n",
    "\n",
    "from collections import defaultdict\n",
    "d = defaultdict()\n",
    "cate = \"\"\n",
    "for i in s:\n",
    "    if i[0] == \":\":\n",
    "        cate = i.replace(\":\",\"\")\n",
    "        cate = cate.replace(\" \",\"\")\n",
    "        cate = cate.replace(\"\\n\",\"\")\n",
    "    else:\n",
    "        tmp1,tmp2,tmp3,_ = i.split(\" \")\n",
    "        d[(tmp1,tmp2,tmp3)] = cate\n",
    "\n",
    "def return_cate(x):\n",
    "    return pd.Series(d[(x[\"e1\"],x[\"e2\"],x[\"e3\"])])\n",
    "\n",
    "df[[\"category\"]] = df.progress_apply(return_cate, axis=1)"
   ]
  },
  {
   "cell_type": "code",
   "execution_count": 30,
   "metadata": {},
   "outputs": [],
   "source": [
    "df.to_csv('ans64.txt', sep=' ', index=False, header=None)"
   ]
  },
  {
   "cell_type": "code",
   "execution_count": 31,
   "metadata": {},
   "outputs": [
    {
     "data": {
      "text/html": [
       "<div>\n",
       "<style scoped>\n",
       "    .dataframe tbody tr th:only-of-type {\n",
       "        vertical-align: middle;\n",
       "    }\n",
       "\n",
       "    .dataframe tbody tr th {\n",
       "        vertical-align: top;\n",
       "    }\n",
       "\n",
       "    .dataframe thead th {\n",
       "        text-align: right;\n",
       "    }\n",
       "</style>\n",
       "<table border=\"1\" class=\"dataframe\">\n",
       "  <thead>\n",
       "    <tr style=\"text-align: right;\">\n",
       "      <th></th>\n",
       "      <th>e1</th>\n",
       "      <th>e2</th>\n",
       "      <th>e3</th>\n",
       "      <th>e4</th>\n",
       "      <th>word</th>\n",
       "      <th>score</th>\n",
       "      <th>category</th>\n",
       "    </tr>\n",
       "  </thead>\n",
       "  <tbody>\n",
       "    <tr>\n",
       "      <th>0</th>\n",
       "      <td>Athens</td>\n",
       "      <td>Greece</td>\n",
       "      <td>Baghdad</td>\n",
       "      <td>Iraq</td>\n",
       "      <td>Iraqi</td>\n",
       "      <td>0.635187</td>\n",
       "      <td>capital-world</td>\n",
       "    </tr>\n",
       "    <tr>\n",
       "      <th>1</th>\n",
       "      <td>Athens</td>\n",
       "      <td>Greece</td>\n",
       "      <td>Bangkok</td>\n",
       "      <td>Thailand</td>\n",
       "      <td>Thailand</td>\n",
       "      <td>0.713767</td>\n",
       "      <td>capital-world</td>\n",
       "    </tr>\n",
       "    <tr>\n",
       "      <th>2</th>\n",
       "      <td>Athens</td>\n",
       "      <td>Greece</td>\n",
       "      <td>Beijing</td>\n",
       "      <td>China</td>\n",
       "      <td>China</td>\n",
       "      <td>0.723578</td>\n",
       "      <td>capital-world</td>\n",
       "    </tr>\n",
       "    <tr>\n",
       "      <th>3</th>\n",
       "      <td>Athens</td>\n",
       "      <td>Greece</td>\n",
       "      <td>Berlin</td>\n",
       "      <td>Germany</td>\n",
       "      <td>Germany</td>\n",
       "      <td>0.673462</td>\n",
       "      <td>capital-world</td>\n",
       "    </tr>\n",
       "    <tr>\n",
       "      <th>4</th>\n",
       "      <td>Athens</td>\n",
       "      <td>Greece</td>\n",
       "      <td>Bern</td>\n",
       "      <td>Switzerland</td>\n",
       "      <td>Switzerland</td>\n",
       "      <td>0.491975</td>\n",
       "      <td>capital-world</td>\n",
       "    </tr>\n",
       "    <tr>\n",
       "      <th>...</th>\n",
       "      <td>...</td>\n",
       "      <td>...</td>\n",
       "      <td>...</td>\n",
       "      <td>...</td>\n",
       "      <td>...</td>\n",
       "      <td>...</td>\n",
       "      <td>...</td>\n",
       "    </tr>\n",
       "    <tr>\n",
       "      <th>19539</th>\n",
       "      <td>write</td>\n",
       "      <td>writes</td>\n",
       "      <td>talk</td>\n",
       "      <td>talks</td>\n",
       "      <td>talked</td>\n",
       "      <td>0.544719</td>\n",
       "      <td>gram9-plural-verbs</td>\n",
       "    </tr>\n",
       "    <tr>\n",
       "      <th>19540</th>\n",
       "      <td>write</td>\n",
       "      <td>writes</td>\n",
       "      <td>think</td>\n",
       "      <td>thinks</td>\n",
       "      <td>thinks</td>\n",
       "      <td>0.617773</td>\n",
       "      <td>gram9-plural-verbs</td>\n",
       "    </tr>\n",
       "    <tr>\n",
       "      <th>19541</th>\n",
       "      <td>write</td>\n",
       "      <td>writes</td>\n",
       "      <td>vanish</td>\n",
       "      <td>vanishes</td>\n",
       "      <td>disappear</td>\n",
       "      <td>0.600271</td>\n",
       "      <td>gram9-plural-verbs</td>\n",
       "    </tr>\n",
       "    <tr>\n",
       "      <th>19542</th>\n",
       "      <td>write</td>\n",
       "      <td>writes</td>\n",
       "      <td>walk</td>\n",
       "      <td>walks</td>\n",
       "      <td>walks</td>\n",
       "      <td>0.553434</td>\n",
       "      <td>gram9-plural-verbs</td>\n",
       "    </tr>\n",
       "    <tr>\n",
       "      <th>19543</th>\n",
       "      <td>write</td>\n",
       "      <td>writes</td>\n",
       "      <td>work</td>\n",
       "      <td>works</td>\n",
       "      <td>works</td>\n",
       "      <td>0.538761</td>\n",
       "      <td>gram9-plural-verbs</td>\n",
       "    </tr>\n",
       "  </tbody>\n",
       "</table>\n",
       "<p>19544 rows × 7 columns</p>\n",
       "</div>"
      ],
      "text/plain": [
       "           e1      e2       e3           e4         word     score  \\\n",
       "0      Athens  Greece  Baghdad         Iraq        Iraqi  0.635187   \n",
       "1      Athens  Greece  Bangkok     Thailand     Thailand  0.713767   \n",
       "2      Athens  Greece  Beijing        China        China  0.723578   \n",
       "3      Athens  Greece   Berlin      Germany      Germany  0.673462   \n",
       "4      Athens  Greece     Bern  Switzerland  Switzerland  0.491975   \n",
       "...       ...     ...      ...          ...          ...       ...   \n",
       "19539   write  writes     talk        talks       talked  0.544719   \n",
       "19540   write  writes    think       thinks       thinks  0.617773   \n",
       "19541   write  writes   vanish     vanishes    disappear  0.600271   \n",
       "19542   write  writes     walk        walks        walks  0.553434   \n",
       "19543   write  writes     work        works        works  0.538761   \n",
       "\n",
       "                 category  \n",
       "0           capital-world  \n",
       "1           capital-world  \n",
       "2           capital-world  \n",
       "3           capital-world  \n",
       "4           capital-world  \n",
       "...                   ...  \n",
       "19539  gram9-plural-verbs  \n",
       "19540  gram9-plural-verbs  \n",
       "19541  gram9-plural-verbs  \n",
       "19542  gram9-plural-verbs  \n",
       "19543  gram9-plural-verbs  \n",
       "\n",
       "[19544 rows x 7 columns]"
      ]
     },
     "execution_count": 31,
     "metadata": {},
     "output_type": "execute_result"
    }
   ],
   "source": [
    "df"
   ]
  },
  {
   "cell_type": "code",
   "execution_count": null,
   "metadata": {},
   "outputs": [],
   "source": []
  }
 ],
 "metadata": {
  "kernelspec": {
   "display_name": "Python 3",
   "language": "python",
   "name": "python3"
  },
  "language_info": {
   "codemirror_mode": {
    "name": "ipython",
    "version": 3
   },
   "file_extension": ".py",
   "mimetype": "text/x-python",
   "name": "python",
   "nbconvert_exporter": "python",
   "pygments_lexer": "ipython3",
   "version": "3.7.8"
  }
 },
 "nbformat": 4,
 "nbformat_minor": 4
}
