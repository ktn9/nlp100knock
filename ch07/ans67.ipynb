{
 "cells": [
  {
   "cell_type": "code",
   "execution_count": 2,
   "metadata": {},
   "outputs": [],
   "source": [
    "import pandas as pd\n",
    "from gensim.models import KeyedVectors\n",
    "model = KeyedVectors.load_word2vec_format('GoogleNews-vectors-negative300.bin', binary=True)"
   ]
  },
  {
   "cell_type": "code",
   "execution_count": 21,
   "metadata": {},
   "outputs": [],
   "source": [
    "from country_list import countries_for_language"
   ]
  },
  {
   "cell_type": "code",
   "execution_count": 22,
   "metadata": {},
   "outputs": [],
   "source": [
    "countries = dict(countries_for_language('en'))"
   ]
  },
  {
   "cell_type": "code",
   "execution_count": 28,
   "metadata": {},
   "outputs": [],
   "source": [
    "countries = set(countries.values())"
   ]
  },
  {
   "cell_type": "code",
   "execution_count": 30,
   "metadata": {},
   "outputs": [],
   "source": [
    "vec = []\n",
    "name = []\n",
    "\n",
    "for c in countries:\n",
    "    if c in model.vocab:\n",
    "        vec.append(model[c])\n",
    "        name.append(c)"
   ]
  },
  {
   "cell_type": "code",
   "execution_count": 32,
   "metadata": {},
   "outputs": [
    {
     "name": "stdout",
     "output_type": "stream",
     "text": [
      "[2 1 1 0 3 2 1 2 1 1 1 2 4 2 2 3 0 2 0 1 1 1 3 4 4 2 4 2 1 0 0 0 1 4 2 2 1\n",
      " 2 0 3 3 3 0 3 2 2 1 0 0 4 1 0 0 3 1 4 1 3 1 3 2 2 0 1 1 2 1 1 1 0 0 1 0 1\n",
      " 2 0 1 1 0 3 0 1 0 4 1 2 4 3 2 0 4 1 0 2 3 2 2 1 3 4 0 1 4 0 4 1 2 1 1 1 1\n",
      " 2 1 2 4 4 0 0 2 3 0 3 2 3 1 3 3 3 1 0 4 0 1 0 3 3 3 1 2 2 1 4 3 0 3 3 0 1\n",
      " 3 1 1 0 0 3 2 0 0 1 0 4 1 4 0 3 2 3 1 2 2 3 3 3 1 0]\n"
     ]
    }
   ],
   "source": [
    "from sklearn.cluster import KMeans\n",
    "import numpy as np\n",
    "X = np.array(vec)\n",
    "km = KMeans(n_clusters=5, random_state=0)\n",
    "y_km = km.fit_predict(X)\n",
    "print(y_km)\n"
   ]
  },
  {
   "cell_type": "code",
   "execution_count": 33,
   "metadata": {},
   "outputs": [],
   "source": [
    "from collections import defaultdict\n",
    "d = defaultdict(list)\n",
    "for i,j in zip(y_km,name):\n",
    "    d[i].append(j)"
   ]
  },
  {
   "cell_type": "code",
   "execution_count": 37,
   "metadata": {},
   "outputs": [
    {
     "name": "stdout",
     "output_type": "stream",
     "text": [
      "2 ['Uzbekistan', 'Bangladesh', 'Tajikistan', 'Bhutan', 'Vietnam', 'Afghanistan', 'Australia', 'Nepal', 'Oman', 'Israel', 'China', 'Turkmenistan', 'Philippines', 'Indonesia', 'India', 'Malaysia', 'Iran', 'Mongolia', 'Kuwait', 'Iraq', 'Pakistan', 'Bahrain', 'Lebanon', 'Qatar', 'Japan', 'Taiwan', 'Kyrgyzstan', 'Jordan', 'Brunei', 'Cambodia', 'Laos', 'Syria', 'Singapore', 'Thailand']\n",
      "\n",
      "1 ['Paraguay', 'Monaco', 'Greece', 'Albania', 'Liechtenstein', 'Belgium', 'Cyprus', 'Russia', 'Finland', 'Malta', 'Croatia', 'Lithuania', 'Andorra', 'Belarus', 'Kazakhstan', 'Switzerland', 'France', 'Portugal', 'Luxembourg', 'Azerbaijan', 'Argentina', 'Slovakia', 'Latvia', 'Iceland', 'Moldova', 'Georgia', 'Norway', 'Slovenia', 'Uruguay', 'Bulgaria', 'Montenegro', 'Turkey', 'Greenland', 'Hungary', 'Estonia', 'Ireland', 'Italy', 'Austria', 'Germany', 'Serbia', 'Czechia', 'Poland', 'Netherlands', 'Denmark', 'Armenia', 'Spain', 'Ukraine', 'Romania', 'Sweden']\n",
      "\n",
      "0 ['Algeria', 'Ghana', 'Mozambique', 'Zambia', 'Zimbabwe', 'Rwanda', 'Liberia', 'Gambia', 'Cameroon', 'Lesotho', 'Benin', 'Sudan', 'Ethiopia', 'Malawi', 'Egypt', 'Madagascar', 'Gabon', 'Eritrea', 'Chad', 'Namibia', 'Kenya', 'Niger', 'Togo', 'Djibouti', 'Botswana', 'Burundi', 'Tunisia', 'Yemen', 'Senegal', 'Uganda', 'Mauritania', 'Tanzania', 'Libya', 'Angola', 'Nigeria', 'Somalia', 'Mali', 'Morocco', 'Guinea']\n",
      "\n",
      "3 ['Martinique', 'Jamaica', 'Bolivia', 'Bahamas', 'Nicaragua', 'Dominica', 'Guernsey', 'Belize', 'Cuba', 'Haiti', 'Barbados', 'Venezuela', 'Anguilla', 'Guatemala', 'Curaçao', 'Guadeloupe', 'Mexico', 'Chile', 'Peru', 'Brazil', 'Colombia', 'Honduras', 'Bermuda', 'Gibraltar', 'Suriname', 'Montserrat', 'Panama', 'Jersey', 'Canada', 'Ecuador', 'Grenada', 'Aruba', 'Guyana']\n",
      "\n",
      "4 ['Niue', 'Tonga', 'Micronesia', 'Fiji', 'Seychelles', 'Mauritius', 'Palau', 'Réunion', 'Guam', 'Antarctica', 'Kiribati', 'Maldives', 'Tuvalu', 'Tokelau', 'Samoa', 'Nauru', 'Vanuatu', 'Mayotte', 'Comoros']\n",
      "\n"
     ]
    }
   ],
   "source": [
    "for key in d.keys():\n",
    "    print(key,d[key],end=\"\\n\\n\")"
   ]
  },
  {
   "cell_type": "code",
   "execution_count": null,
   "metadata": {},
   "outputs": [],
   "source": []
  }
 ],
 "metadata": {
  "kernelspec": {
   "display_name": "Python 3",
   "language": "python",
   "name": "python3"
  },
  "language_info": {
   "codemirror_mode": {
    "name": "ipython",
    "version": 3
   },
   "file_extension": ".py",
   "mimetype": "text/x-python",
   "name": "python",
   "nbconvert_exporter": "python",
   "pygments_lexer": "ipython3",
   "version": "3.7.8"
  }
 },
 "nbformat": 4,
 "nbformat_minor": 4
}
