{
 "cells": [
  {
   "cell_type": "code",
   "execution_count": 1,
   "metadata": {},
   "outputs": [],
   "source": [
    "import sys\n",
    "import MeCab\n",
    "m = MeCab.Tagger (\"mecab-ipadic-neologd\")"
   ]
  },
  {
   "cell_type": "code",
   "execution_count": 2,
   "metadata": {},
   "outputs": [],
   "source": [
    "def parse_mecab(block):\n",
    "    res = []\n",
    "    \n",
    "    for line in block.split('\\n'):\n",
    "        if line == '':\n",
    "            return res\n",
    "        (surface, node) = line.split('\\t')\n",
    "        pos,pos1,_,_,_,_,base,*_ = node.split(\",\")\n",
    "        lineDict = {\n",
    "            'surface': surface,\n",
    "            'base': base,\n",
    "            'pos': pos,\n",
    "            'pos1': pos1\n",
    "        }\n",
    "        if surface == \"\\u3000\":\n",
    "            continue\n",
    "        res.append(lineDict)"
   ]
  },
  {
   "cell_type": "code",
   "execution_count": 3,
   "metadata": {},
   "outputs": [],
   "source": [
    "with open(\"neko.txt.mecab\",mode=\"rt\",encoding=\"utf-8\") as f:\n",
    "    txt = f.read().split(\"EOS\\n\")"
   ]
  },
  {
   "cell_type": "code",
   "execution_count": 4,
   "metadata": {},
   "outputs": [],
   "source": [
    "txt = list(filter(lambda x: x!= \"\",txt))\n",
    "doc = [parse_mecab(block) for block in txt if len(block) != 0]"
   ]
  },
  {
   "cell_type": "code",
   "execution_count": 5,
   "metadata": {},
   "outputs": [],
   "source": [
    "doc = [i for i in doc if i != []]"
   ]
  },
  {
   "cell_type": "code",
   "execution_count": 13,
   "metadata": {},
   "outputs": [],
   "source": [
    "word_list = []\n",
    "for i in doc:\n",
    "    tmp = [k[\"surface\"] for k in i]\n",
    "    if \"猫\" in set(tmp):\n",
    "        for j in i:\n",
    "            word_list.append(j[\"surface\"] + \"_\" + j[\"pos\"] + \"_\" + j[\"pos1\"])\n",
    "word_list = list(filter(lambda x:x != \"猫_名詞_一般\",word_list))"
   ]
  },
  {
   "cell_type": "code",
   "execution_count": 15,
   "metadata": {},
   "outputs": [],
   "source": [
    "from collections import Counter\n",
    "word_counter = Counter(word_list)"
   ]
  },
  {
   "cell_type": "code",
   "execution_count": 16,
   "metadata": {},
   "outputs": [
    {
     "data": {
      "text/plain": [
       "[('の_助詞_連体化', 322),\n",
       " ('は_助詞_係助詞', 272),\n",
       " ('、_記号_読点', 252),\n",
       " ('を_助詞_格助詞', 232),\n",
       " ('て_助詞_接続助詞', 228),\n",
       " ('に_助詞_格助詞', 210),\n",
       " ('。_記号_句点', 209),\n",
       " ('と_助詞_格助詞', 143),\n",
       " ('が_助詞_格助詞', 128),\n",
       " ('た_助動詞_*', 125)]"
      ]
     },
     "execution_count": 16,
     "metadata": {},
     "output_type": "execute_result"
    }
   ],
   "source": [
    "list(word_counter.most_common())[:10]"
   ]
  },
  {
   "cell_type": "code",
   "execution_count": 17,
   "metadata": {},
   "outputs": [
    {
     "name": "stderr",
     "output_type": "stream",
     "text": [
      "/home/kitano/anaconda3/envs/test/lib/python3.7/site-packages/japanize_matplotlib/japanize_matplotlib.py:15: MatplotlibDeprecationWarning: \n",
      "The createFontList function was deprecated in Matplotlib 3.2 and will be removed two minor releases later. Use FontManager.addfont instead.\n",
      "  font_list = font_manager.createFontList(font_files)\n"
     ]
    }
   ],
   "source": [
    "import matplotlib.pyplot as plt\n",
    "import japanize_matplotlib"
   ]
  },
  {
   "cell_type": "code",
   "execution_count": 18,
   "metadata": {},
   "outputs": [],
   "source": [
    "x = []\n",
    "y = []\n",
    "for i,j in list(word_counter.most_common())[:10]:\n",
    "    x.append(i)\n",
    "    y.append(j)"
   ]
  },
  {
   "cell_type": "code",
   "execution_count": 19,
   "metadata": {},
   "outputs": [
    {
     "data": {
      "image/png": "[encoded data removed]",
      "text/plain": [
       "<Figure size 432x288 with 1 Axes>"
      ]
     },
     "metadata": {
      "needs_background": "light"
     },
     "output_type": "display_data"
    }
   ],
   "source": [
    "plt.plot(x,y)\n",
    "plt.xticks(rotation=90)\n",
    "plt.show()"
   ]
  },
  {
   "cell_type": "code",
   "execution_count": null,
   "metadata": {},
   "outputs": [],
   "source": []
  }
 ],
 "metadata": {
  "kernelspec": {
   "display_name": "Python 3",
   "language": "python",
   "name": "python3"
  },
  "language_info": {
   "codemirror_mode": {
    "name": "ipython",
    "version": 3
   },
   "file_extension": ".py",
   "mimetype": "text/x-python",
   "name": "python",
   "nbconvert_exporter": "python",
   "pygments_lexer": "ipython3",
   "version": "3.7.4"
  }
 },
 "nbformat": 4,
 "nbformat_minor": 4
}
