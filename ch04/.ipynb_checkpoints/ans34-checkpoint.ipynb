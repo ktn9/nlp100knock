{
 "cells": [
  {
   "cell_type": "code",
   "execution_count": 1,
   "metadata": {},
   "outputs": [],
   "source": [
    "import sys\n",
    "import MeCab\n",
    "m = MeCab.Tagger (\"mecab-ipadic-neologd\")"
   ]
  },
  {
   "cell_type": "code",
   "execution_count": 2,
   "metadata": {},
   "outputs": [],
   "source": [
    "def parse_mecab(block):\n",
    "    res = []\n",
    "    \n",
    "    for line in block.split('\\n'):\n",
    "        if line == '':\n",
    "            return res\n",
    "        (surface, node) = line.split('\\t')\n",
    "        pos,pos1,_,_,_,_,base,*_ = node.split(\",\")\n",
    "        lineDict = {\n",
    "            'surface': surface,\n",
    "            'base': base,\n",
    "            'pos': pos,\n",
    "            'pos1': pos1\n",
    "        }\n",
    "        if surface == \"\\u3000\":\n",
    "            continue\n",
    "        res.append(lineDict)"
   ]
  },
  {
   "cell_type": "code",
   "execution_count": 3,
   "metadata": {},
   "outputs": [],
   "source": [
    "with open(\"neko.txt.mecab\",mode=\"rt\",encoding=\"utf-8\") as f:\n",
    "    txt = f.read().split(\"EOS\\n\")"
   ]
  },
  {
   "cell_type": "code",
   "execution_count": 4,
   "metadata": {},
   "outputs": [],
   "source": [
    "txt = list(filter(lambda x: x!= \"\",txt))\n",
    "doc = [parse_mecab(block) for block in txt if len(block) != 0]"
   ]
  },
  {
   "cell_type": "code",
   "execution_count": 5,
   "metadata": {},
   "outputs": [],
   "source": [
    "doc = [i for i in doc if i != []]"
   ]
  },
  {
   "cell_type": "code",
   "execution_count": 8,
   "metadata": {},
   "outputs": [],
   "source": [
    "noun_clause = []\n",
    "for i in doc:\n",
    "    noun_top = True\n",
    "    tmp = \"\"\n",
    "    for j in range(len(i)-1):\n",
    "        if i[j][\"pos\"] == \"名詞\" and i[j+1][\"pos\"] == \"名詞\":\n",
    "            if noun_top:\n",
    "                tmp = i[j][\"surface\"] + i[j+1][\"surface\"]\n",
    "                noun_top = False\n",
    "            else:\n",
    "                tmp += i[j+1][\"surface\"]\n",
    "        else:\n",
    "            if tmp != \"\":\n",
    "                noun_clause.append(tmp)\n",
    "                tmp = \"\"\n",
    "            noun_top = True\n",
    "            "
   ]
  },
  {
   "cell_type": "code",
   "execution_count": 9,
   "metadata": {},
   "outputs": [
    {
     "data": {
      "text/plain": [
       "['人間中',\n",
       " '一番獰悪',\n",
       " '時妙',\n",
       " '一毛',\n",
       " 'その後猫',\n",
       " '一度',\n",
       " 'ぷうぷうと煙',\n",
       " '邸内',\n",
       " '三毛',\n",
       " '書生以外',\n",
       " '四五遍',\n",
       " 'この間おさん',\n",
       " '三馬',\n",
       " '御台所',\n",
       " 'まま奥',\n",
       " '住家',\n",
       " '終日書斎',\n",
       " '勉強家',\n",
       " '勉強家',\n",
       " '勤勉家',\n",
       " '二三ページ',\n",
       " '主人以外',\n",
       " '限り吾輩',\n",
       " '朝主人',\n",
       " '一番心持',\n",
       " '二人',\n",
       " '一つ床',\n",
       " '一人',\n",
       " '最後大変',\n",
       " '——猫',\n",
       " '神経胃弱性',\n",
       " '物指',\n",
       " '尻ぺたをひどく',\n",
       " '言語同断',\n",
       " '家内総がかり',\n",
       " '筋向',\n",
       " '白君',\n",
       " '度毎',\n",
       " '白君',\n",
       " '先日玉',\n",
       " '四疋',\n",
       " '三日目',\n",
       " '四疋',\n",
       " '白君',\n",
       " '我等猫族',\n",
       " '家族的生活',\n",
       " '三毛君',\n",
       " '所有権',\n",
       " '我々同族間',\n",
       " '目刺',\n",
       " '一番先',\n",
       " '彼等人間',\n",
       " '我等',\n",
       " '吾人',\n",
       " '白君',\n",
       " '三毛君',\n",
       " '間違いだらけ',\n",
       " '後架先生',\n",
       " '宗盛',\n",
       " '宗盛',\n",
       " '月給日',\n",
       " '水彩絵具',\n",
       " '毎日毎日書斎',\n",
       " '人の',\n",
       " '自ら筆',\n",
       " '眼鏡越',\n",
       " '一室内',\n",
       " '以太利',\n",
       " '大家アンドレア・デル・サルト',\n",
       " '露華',\n",
       " '寒鴉',\n",
       " 'これ一幅',\n",
       " '活画',\n",
       " '翌日吾輩',\n",
       " '一分',\n",
       " '辛棒',\n",
       " '今吾輩',\n",
       " '今吾輩',\n",
       " '波斯産',\n",
       " '上不思議',\n",
       " '盲猫',\n",
       " '心中ひそか',\n",
       " 'いくらアンドレア・デル・サルト',\n",
       " '一分',\n",
       " 'あと大',\n",
       " '壊わし',\n",
       " '馬鹿野郎',\n",
       " '馬鹿野郎',\n",
       " '辛棒',\n",
       " '馬鹿野郎呼わり',\n",
       " '平生吾輩',\n",
       " '馬鹿野郎',\n",
       " 'みんな増長',\n",
       " '先どこ',\n",
       " '数倍',\n",
       " '十坪',\n",
       " '腹加減',\n",
       " '穏かな日',\n",
       " '二時頃',\n",
       " '昼飯後']"
      ]
     },
     "execution_count": 9,
     "metadata": {},
     "output_type": "execute_result"
    }
   ],
   "source": [
    "noun_clause[:100]"
   ]
  }
 ],
 "metadata": {
  "kernelspec": {
   "display_name": "Python 3",
   "language": "python",
   "name": "python3"
  },
  "language_info": {
   "codemirror_mode": {
    "name": "ipython",
    "version": 3
   },
   "file_extension": ".py",
   "mimetype": "text/x-python",
   "name": "python",
   "nbconvert_exporter": "python",
   "pygments_lexer": "ipython3",
   "version": "3.7.4"
  }
 },
 "nbformat": 4,
 "nbformat_minor": 4
}
