{
 "cells": [
  {
   "cell_type": "markdown",
   "metadata": {},
   "source": [
    "f = open('neko.txt')\n",
    "txt = f.read()\n",
    "f.close()"
   ]
  },
  {
   "cell_type": "code",
   "execution_count": 1,
   "metadata": {},
   "outputs": [],
   "source": [
    "import sys\n",
    "import MeCab\n",
    "m = MeCab.Tagger (\"mecab-ipadic-neologd\")"
   ]
  },
  {
   "cell_type": "markdown",
   "metadata": {},
   "source": [
    "txt = txt.replace(\"\\u3000\",\"\")"
   ]
  },
  {
   "cell_type": "markdown",
   "metadata": {},
   "source": [
    "txt = [i for i in txt.split(\"\\n\") if len(i) > 1]"
   ]
  },
  {
   "cell_type": "markdown",
   "metadata": {},
   "source": [
    "node = m.parseToNode(txt[0])"
   ]
  },
  {
   "cell_type": "markdown",
   "metadata": {},
   "source": [
    "sent = []\n",
    "while node:\n",
    "    d = dict()\n",
    "    surface = node.surface\n",
    "    pos,pos1,_,_,_,_,base,_,*_ = node.feature.split(\",\")\n",
    "    d[\"surface\"] = surface\n",
    "    d[\"pos\"] = pos\n",
    "    d[\"pos1\"] = pos1\n",
    "    d[\"base\"]= base\n",
    "    sent.append(d)\n",
    "    node = node.next"
   ]
  },
  {
   "cell_type": "code",
   "execution_count": null,
   "metadata": {},
   "outputs": [],
   "source": [
    "def parse_mecab(block):\n",
    "    res = []\n",
    "    \n",
    "    for line in block.split('\\n'):\n",
    "        if line == '':\n",
    "            return res\n",
    "        (surface, node) = line.split('\\t')\n",
    "        pos,pos1,_,_,_,_,base,*_ = node.split(\",\")\n",
    "        lineDict = {\n",
    "            'surface': surface,\n",
    "            'base': base,\n",
    "            'pos': pos,\n",
    "            'pos1': pos1\n",
    "        }\n",
    "        if surface == \"\\u3000\":\n",
    "            continue\n",
    "        res.append(lineDict)\n",
    "\n",
    "with open(\"neko.txt.mecab\",mode=\"rt\",encoding=\"utf-8\") as f:\n",
    "    txt = f.read().split(\"EOS\\n\")\n",
    "\n",
    "txt = list(filter(lambda x: x!= \"\",txt))\n",
    "doc = [parse_mecab(block) for block in txt if len(block) != 0]\n",
    "\n",
    "doc = [i for i in doc if i != []]"
   ]
  },
  {
   "cell_type": "code",
   "execution_count": 9,
   "metadata": {},
   "outputs": [
    {
     "data": {
      "text/plain": [
       "[{'surface': '吾輩', 'base': '吾輩', 'pos': '名詞', 'pos1': '代名詞'},\n",
       " {'surface': 'は', 'base': 'は', 'pos': '助詞', 'pos1': '係助詞'},\n",
       " {'surface': '猫', 'base': '猫', 'pos': '名詞', 'pos1': '一般'},\n",
       " {'surface': 'で', 'base': 'だ', 'pos': '助動詞', 'pos1': '*'},\n",
       " {'surface': 'ある', 'base': 'ある', 'pos': '助動詞', 'pos1': '*'},\n",
       " {'surface': '。', 'base': '。', 'pos': '記号', 'pos1': '句点'}]"
      ]
     },
     "execution_count": 9,
     "metadata": {},
     "output_type": "execute_result"
    }
   ],
   "source": [
    "doc[1]"
   ]
  },
  {
   "cell_type": "code",
   "execution_count": null,
   "metadata": {},
   "outputs": [],
   "source": []
  }
 ],
 "metadata": {
  "kernelspec": {
   "display_name": "Python 3",
   "language": "python",
   "name": "python3"
  },
  "language_info": {
   "codemirror_mode": {
    "name": "ipython",
    "version": 3
   },
   "file_extension": ".py",
   "mimetype": "text/x-python",
   "name": "python",
   "nbconvert_exporter": "python",
   "pygments_lexer": "ipython3",
   "version": "3.7.4"
  }
 },
 "nbformat": 4,
 "nbformat_minor": 4
}
