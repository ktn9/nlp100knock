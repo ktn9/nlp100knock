{
 "cells": [
  {
   "cell_type": "code",
   "execution_count": 2,
   "metadata": {},
   "outputs": [],
   "source": [
    "import sys\n",
    "import MeCab\n",
    "m = MeCab.Tagger (\"mecab-ipadic-neologd\")"
   ]
  },
  {
   "cell_type": "code",
   "execution_count": 3,
   "metadata": {},
   "outputs": [],
   "source": [
    "def parse_mecab(block):\n",
    "    res = []\n",
    "    \n",
    "    for line in block.split('\\n'):\n",
    "        if line == '':\n",
    "            return res\n",
    "        (surface, node) = line.split('\\t')\n",
    "        pos,pos1,_,_,_,_,base,*_ = node.split(\",\")\n",
    "        lineDict = {\n",
    "            'surface': surface,\n",
    "            'base': base,\n",
    "            'pos': pos,\n",
    "            'pos1': pos1\n",
    "        }\n",
    "        if surface == \"\\u3000\":\n",
    "            continue\n",
    "        res.append(lineDict)"
   ]
  },
  {
   "cell_type": "code",
   "execution_count": 4,
   "metadata": {},
   "outputs": [],
   "source": [
    "with open(\"neko.txt.mecab\",mode=\"rt\",encoding=\"utf-8\") as f:\n",
    "    txt = f.read().split(\"EOS\\n\")"
   ]
  },
  {
   "cell_type": "code",
   "execution_count": 5,
   "metadata": {},
   "outputs": [],
   "source": [
    "txt = list(filter(lambda x: x!= \"\",txt))\n",
    "doc = [parse_mecab(block) for block in txt if len(block) != 0]"
   ]
  },
  {
   "cell_type": "code",
   "execution_count": 6,
   "metadata": {},
   "outputs": [],
   "source": [
    "doc = [i for i in doc if i != []]"
   ]
  },
  {
   "cell_type": "code",
   "execution_count": 18,
   "metadata": {},
   "outputs": [],
   "source": [
    "word_list = []\n",
    "for i in doc:\n",
    "    for j in i:\n",
    "        word_list.append(j[\"surface\"] + \"_\" + j[\"pos\"] + \"_\" + j[\"pos1\"])"
   ]
  },
  {
   "cell_type": "code",
   "execution_count": 19,
   "metadata": {},
   "outputs": [],
   "source": [
    "from collections import Counter\n",
    "word_counter = Counter(word_list)"
   ]
  },
  {
   "cell_type": "code",
   "execution_count": 20,
   "metadata": {},
   "outputs": [
    {
     "data": {
      "text/plain": [
       "[('。_記号_句点', 7486),\n",
       " ('の_助詞_連体化', 7032),\n",
       " ('て_助詞_接続助詞', 6812),\n",
       " ('、_記号_読点', 6772),\n",
       " ('は_助詞_係助詞', 6420),\n",
       " ('を_助詞_格助詞', 6071),\n",
       " ('に_助詞_格助詞', 5470),\n",
       " ('が_助詞_格助詞', 4196),\n",
       " ('と_助詞_格助詞', 3991),\n",
       " ('た_助動詞_*', 3987)]"
      ]
     },
     "execution_count": 20,
     "metadata": {},
     "output_type": "execute_result"
    }
   ],
   "source": [
    "list(word_counter.most_common())[:10]"
   ]
  }
 ],
 "metadata": {
  "kernelspec": {
   "display_name": "Python 3",
   "language": "python",
   "name": "python3"
  },
  "language_info": {
   "codemirror_mode": {
    "name": "ipython",
    "version": 3
   },
   "file_extension": ".py",
   "mimetype": "text/x-python",
   "name": "python",
   "nbconvert_exporter": "python",
   "pygments_lexer": "ipython3",
   "version": "3.7.4"
  }
 },
 "nbformat": 4,
 "nbformat_minor": 4
}
