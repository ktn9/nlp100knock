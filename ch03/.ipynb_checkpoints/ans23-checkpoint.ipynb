{
 "cells": [
  {
   "cell_type": "code",
   "execution_count": 1,
   "metadata": {},
   "outputs": [],
   "source": [
    "import pandas as pd\n",
    "\n",
    "df = pd.read_json(\"jawiki-country.json.gz\", lines=True)\n",
    "txt = df.query('title==\"イギリス\"')[\"text\"].values[0]"
   ]
  },
  {
   "cell_type": "code",
   "execution_count": 2,
   "metadata": {},
   "outputs": [],
   "source": [
    "import re\n",
    "m = re.findall(r\"==+([^=]*)(=*)\",txt)"
   ]
  },
  {
   "cell_type": "code",
   "execution_count": 3,
   "metadata": {},
   "outputs": [
    {
     "name": "stdout",
     "output_type": "stream",
     "text": [
      "国名 2\n",
      "歴史 2\n",
      "地理 2\n",
      "主要都市 3\n",
      "気候 3\n",
      "政治 2\n",
      "元首 3\n",
      "法 3\n",
      "内政 3\n",
      "地方行政区分 3\n",
      "外交・軍事 3\n",
      "経済 2\n",
      "鉱業 3\n",
      "農業 3\n",
      "貿易 3\n",
      "不動産 3\n",
      "エネルギー政策 3\n",
      "通貨 3\n",
      "企業 3\n",
      "通信 4\n",
      "交通 2\n",
      "道路 3\n",
      "鉄道 3\n",
      "海運 3\n",
      "航空 3\n",
      "科学技術 2\n",
      "国民 2\n",
      "言語 3\n",
      "宗教 3\n",
      "婚姻 3\n",
      "移住 3\n",
      "教育 3\n",
      "医療 3\n",
      "文化 2\n",
      "食文化 3\n",
      "文学 3\n",
      "哲学 3\n",
      "音楽 3\n",
      "ポピュラー音楽 4\n",
      "映画 3\n",
      "コメディ 3\n",
      "国花 3\n",
      "世界遺産 3\n",
      "祝祭日 3\n",
      "スポーツ 3\n",
      "サッカー 4\n",
      "クリケット 4\n",
      "競馬 4\n",
      "モータースポーツ 4\n",
      "野球 4\n",
      " カーリング  4\n",
      " 自転車競技  4\n",
      "脚注 2\n",
      "関連項目 2\n",
      "外部リンク 2\n"
     ]
    }
   ],
   "source": [
    "for i,j in m:\n",
    "    print(i,len(j))"
   ]
  }
 ],
 "metadata": {
  "kernelspec": {
   "display_name": "Python 3",
   "language": "python",
   "name": "python3"
  },
  "language_info": {
   "codemirror_mode": {
    "name": "ipython",
    "version": 3
   },
   "file_extension": ".py",
   "mimetype": "text/x-python",
   "name": "python",
   "nbconvert_exporter": "python",
   "pygments_lexer": "ipython3",
   "version": "3.7.6"
  }
 },
 "nbformat": 4,
 "nbformat_minor": 4
}
